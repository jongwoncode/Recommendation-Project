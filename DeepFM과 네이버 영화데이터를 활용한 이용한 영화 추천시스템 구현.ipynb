{
 "cells": [
  {
   "cell_type": "markdown",
   "id": "reflected-nicholas",
   "metadata": {},
   "source": [
    "# DeepFM과 네이버 영화데이터를 활용한 이용한 영화 추천시스템 구현"
   ]
  },
  {
   "cell_type": "markdown",
   "id": "athletic-traveler",
   "metadata": {},
   "source": [
    "## 목차"
   ]
  },
  {
   "cell_type": "markdown",
   "id": "latter-mainland",
   "metadata": {},
   "source": [
    "* **1. DeepFM과 네이버 영화데이터를 활용한 이용한 영화 추천시스템 구현**\n",
    "    * **1.1 목차**\n",
    "    * **1.2 DeepFM 소개**\n",
    "        - **1.2.1** Why DeepFM?\n",
    "        - **1.2.2** DeepFM의 장점\n",
    "    * **1.3 라이브러리 로드**\n",
    "<br><br>\n",
    "* **2. Naver 영화 데이터 수집**\n",
    "  * **2.1 크롤링 함수 생성**\n",
    "  * **2.2 크롤링을 위한 DataFrame 생성**\n",
    "      - **2.1.1** get_movie_info 영화 제목, 평점, 장르, 국가, 개봉일 \n",
    "      - **2.1.2** get_actor_director 감독, 배우 가져오는 함수\n",
    "      - **2.1.3** get_prefer_info : 선호 연령 & 성별, 감상 포인트 가져오는 함수\n",
    "      - **2.1.4** get_comment : 영화 평점 comment, id 가져오는 함수\n",
    "      - **2.1.5** get_related_movie : 관련 영화 가져오기\n",
    "  * **2.3 크롤링 수행(Multiprocessing)**\n",
    "  * **2.4 출력된 엑셀 파일 병합**\n",
    "  * **2.5 크롤링한 데이터의 한계 및 KMRD 데이터셋을 사용하는 이유**\n",
    "<br><br>\n",
    "* **3. DeepFM Class 구현**\n",
    "    - **3.1 DeepFM 모델 설명**\n",
    "        + **3.1.1** DeepFM의 구조\n",
    "        + **3.1.2** DeepFM code 설명\n",
    "           + **3.1.2.1** DeepFM Code의 구조\n",
    "           + **3.1.2.2** FM_linear Class\n",
    "           + **3.1.2.3** FeatureEmbedding Class\n",
    "           + **3.1.2.4** FM_pairwise Class\n",
    "           + **3.1.2.5** MultiLayerPerceptron Class\n",
    "           + **3.1.2.6** DeepFM Class\n",
    "    - **3.2 DeepFM 모델 구현**\n",
    "<br><br>\n",
    "* **4. KMRDataset Class 구현** \n",
    "    - **4.1 KMRD 데이터의 특징**\n",
    "    - **4.2 데이터 로드 및 train, test set 분리**\n",
    "<br><br>\n",
    "* **5. DeepFM 모델 학습(GPU 설정)**\n",
    "    - **5.1 Cost function, optimizer**\n",
    "    - **5.2 Train data set으로 DeepFM 모델 학습**\n",
    "    - **5.3 모델 저장 및 로드**\n",
    "<br><br>\n",
    "* **6. DeepFM 모델 테스트**\n",
    "    - **6.1 Train dataset을 활용하여 DeepFM 모델 테스트**\n",
    "    - **6.2 Test dataset을 활용하여 DeepFM 모델 테스트**\n",
    "<br><br>\n",
    "* **7. User i에게 Top-K 영화 추천**\n",
    "    - **7.1 User에게 추천한 영화 정보 크롤링**\n",
    "<br><br>\n",
    "* **8. 결론 및 고찰**\n",
    "<br><br>\n",
    "* **9. Reference**\n"
   ]
  },
  {
   "cell_type": "markdown",
   "id": "boxed-genealogy",
   "metadata": {},
   "source": [
    "## DeepFM 소개\n",
    "\n",
    "![deepfm](./image/deepfm.PNG)\n",
    "\n",
    "* DeepFM CTR을 예측하는 모델로서, Factorization Machine과 DNN을 결합하여 만들었다.\n",
    "* 다양한 feature들의 복잡한 관계를 파악해서 소비자들의 CTR(Click Through rate)를 극대화 하는 것이 추천시스템의 목표이다.\n",
    "* 하지만, 지금(2016년)까지의 발견된 추천 시스템의 모델들은 low or high interaction에 Bias 되어 있었다.\n",
    "* 또한, Domain 지식을 활용한 Feature Engineering을 필요로 하는 경우가 많았다.\n",
    "* 이러한 부분을 해결하고자 Factorization Machine과 DNN을 활용한 DeepFM을 만들었다.\n",
    "\n",
    "### Why DeepFM ?\n",
    "![why DeepFM](./image/pdf1.PNG)\n",
    "\n",
    "\n",
    "### DeepFM의 장점\n",
    "\n",
    "|**Comparison of deep models for CTR prediction**|**Explanation**|\n",
    "|------------------------------------------------------|-----------------|\n",
    "|![CompareModel](./image/table1.PNG)|CTR을 예측하는 Deep model중에서 4개를 모두 만족하는 모델은 DeepFM이 유일하다.|\n",
    "\n",
    "- **Factorization Machine과 DNN을 동시에 활용한다.**\n",
    "    - 따라서, **Low-order-Feature와 High-order Feature를 모두 학습할 수 있다.** \n",
    "\n",
    "- **DeepFM은 End-to-end model을 추구한다.**\n",
    "    - 기존의 FNN 모델은 FM을 학습 시킨 후 Input을 Embedding에 넣을 때 가중치를 주는 방식 이었지만, DeepFM은 FM Component와 Deep Component를 동시에 학습 시킨다.\n",
    "    - 따라서, **DeepFM은 Pre-training 과정이 없다.**\n",
    "- **Feature Engineering이 필요 없다.**\n",
    "    - 최신(2016년 기준)의 가장 Hot한 모델인 Wide and Deep Model(Google)은 Input 값에 적절한 feature engineering이 필요했지만, DeepFM은 feature Engineering이 필요없다.\n",
    "\n",
    "* 따라서, **DeepFM**이 더 **General**하고 **Effective**한 방법이다."
   ]
  },
  {
   "cell_type": "markdown",
   "id": "vocational-blake",
   "metadata": {
    "id": "vocational-blake"
   },
   "source": [
    "## 라이브러리 로드"
   ]
  },
  {
   "cell_type": "markdown",
   "id": "MotQziQKYbbC",
   "metadata": {
    "id": "MotQziQKYbbC"
   },
   "source": [
    "### Colab 환경이면 drive mount 진행"
   ]
  },
  {
   "cell_type": "code",
   "execution_count": 26,
   "id": "3GyGfZuWXHxL",
   "metadata": {
    "colab": {
     "base_uri": "https://localhost:8080/"
    },
    "executionInfo": {
     "elapsed": 419,
     "status": "ok",
     "timestamp": 1629034543356,
     "user": {
      "displayName": "이종원",
      "photoUrl": "",
      "userId": "14753463302396753104"
     },
     "user_tz": -540
    },
    "id": "3GyGfZuWXHxL",
    "outputId": "c41a88a1-1d47-43a8-8d2c-d45681cef31d"
   },
   "outputs": [
    {
     "name": "stdout",
     "output_type": "stream",
     "text": [
      "Drive already mounted at /content/drive; to attempt to forcibly remount, call drive.mount(\"/content/drive\", force_remount=True).\n"
     ]
    }
   ],
   "source": [
    "from google.colab import drive\n",
    "drive.mount('/content/drive')"
   ]
  },
  {
   "cell_type": "code",
   "execution_count": 1,
   "id": "future-roulette",
   "metadata": {
    "executionInfo": {
     "elapsed": 1118,
     "status": "ok",
     "timestamp": 1629034537942,
     "user": {
      "displayName": "이종원",
      "photoUrl": "",
      "userId": "14753463302396753104"
     },
     "user_tz": -540
    },
    "id": "future-roulette"
   },
   "outputs": [
    {
     "name": "stderr",
     "output_type": "stream",
     "text": [
      "C:\\Anaconda3\\lib\\site-packages\\numpy\\_distributor_init.py:30: UserWarning: loaded more than 1 DLL from .libs:\n",
      "C:\\Anaconda3\\lib\\site-packages\\numpy\\.libs\\libopenblas.PYQHXLVVQ7VESDPUVUADXEVJOBGHJPAY.gfortran-win_amd64.dll\n",
      "C:\\Anaconda3\\lib\\site-packages\\numpy\\.libs\\libopenblas.WCDJNK7YVMPZQ2ME2ZZHJJRJ3JIKNDB7.gfortran-win_amd64.dll\n",
      "  warnings.warn(\"loaded more than 1 DLL from .libs:\"\n"
     ]
    }
   ],
   "source": [
    "##### Numpy, Pandas, Matplotlib 및 그래프 설정\n",
    "import numpy as np\n",
    "import pandas as pd\n",
    "import matplotlib.pyplot as plt\n",
    "import seaborn as sns\n",
    "plt.style.use('seaborn-whitegrid')\n",
    "plt.rc('font', family = 'Malgun Gothic')\n",
    "plt.rc('axes', unicode_minus=False)\n",
    "\n",
    "##### 영화정보 수집을 위한 라이브러리 로드\n",
    "import urllib.request as req\n",
    "from urllib.request import urlopen\n",
    "from urllib.error import HTTPError, URLError\n",
    "from bs4 import BeautifulSoup\n",
    "import urllib.parse\n",
    "\n",
    "##### 크롤링시 Multiprocessing & 시간 측정과 연관된 라이브러리 로드\n",
    "import math\n",
    "import tqdm\n",
    "import time\n",
    "from multiprocessing import Pool, Manager\n",
    "\n",
    "##### 크롤링한 DataFrame을 csv파일로 저장한 후, 병합하기 위해 필요한 라이브러리 로드\n",
    "import os\n",
    "import glob\n",
    "\n",
    "##### DeepFM 모델을 pytorch로 구현\n",
    "import torch\n",
    "import torch.nn.functional as F\n",
    "import torch.optim as optim\n",
    "\n",
    "##### 데이터셋을 torch에 연동하고, 데이터 로드를 진행하기 위한 라이브러리 로드\n",
    "from torch.utils.data import DataLoader\n",
    "import torch.utils.data"
   ]
  },
  {
   "cell_type": "markdown",
   "id": "greenhouse-wednesday",
   "metadata": {
    "id": "greenhouse-wednesday"
   },
   "source": [
    "# Naver 영화 데이터 수집"
   ]
  },
  {
   "cell_type": "markdown",
   "id": "alpine-minimum",
   "metadata": {
    "id": "alpine-minimum"
   },
   "source": [
    "## 크롤링 함수 생성\n",
    "\n",
    "**다음의 데이터를 크롤링 했습니다.**\n",
    "   - 한 페이지에 모든 정보가 존재하지 않았기에, 한 영화당 5개의 페이지를 접근하여 크롤링작업을 수행했습니다.\n",
    "   * **`get_movie_info`** : 영화 제목, 평점, 장르, 국가, 개봉일\n",
    "   * **`get_actor_director`** : 감독, 배우\n",
    "   * **`get_prefer_info`** 선호 연령&성별, 감상포인트\n",
    "   * **`get_comment`** 영화 평점 comment, id\n",
    "   * **`get_related_movie`** 관련영화"
   ]
  },
  {
   "cell_type": "markdown",
   "id": "connected-picture",
   "metadata": {
    "id": "connected-picture"
   },
   "source": [
    "### get_movie_info 영화 제목, 평점, 장르, 국가, 개봉일"
   ]
  },
  {
   "cell_type": "code",
   "execution_count": 19,
   "id": "activated-livestock",
   "metadata": {
    "executionInfo": {
     "elapsed": 329,
     "status": "ok",
     "timestamp": 1629034453349,
     "user": {
      "displayName": "이종원",
      "photoUrl": "",
      "userId": "14753463302396753104"
     },
     "user_tz": -540
    },
    "id": "activated-livestock"
   },
   "outputs": [],
   "source": [
    "# 영화 제목, 평점, 장르, 국가, 개봉일\n",
    "def get_movie_info(movie_code) :\n",
    "    '''\n",
    "    영화 제목, 평점, 장르, 국가, 개봉일 받는 함수\n",
    "    input : movie_code = 영화 코드\n",
    "    return : mv_name_lst(이름), score_point_lst(관람객평점), spc_point_lst(기자평론가평점)\n",
    "        net_point_lst(네티즌 평점), genre_lst(장르), nation_lst(국가), open_lst(개봉일)  \n",
    "    '''\n",
    "    \n",
    "    mv_name_lst, score_point_lst, spc_point_lst, net_point_lst = [], [], [], []\n",
    "    genre_lst, nation_lst, open_lst = [], [], []\n",
    "    try :\n",
    "        url = f\"https://movie.naver.com/movie/bi/mi/point.naver?code={movie_code}\"\n",
    "        page = urlopen(url)\n",
    "        soup = BeautifulSoup(page, 'html.parser')\n",
    "    except HTTPError as e :\n",
    "        print(f'{movie_code}, HTTP Error 입니다.', e)\n",
    "    except URLError as e :\n",
    "        print(f'{movie_code}, URL Error 입니다.', e)\n",
    "    except :\n",
    "        print(f'{movie_code}, 오류')\n",
    "    else :\n",
    "        # 영화 제목\n",
    "        try :\n",
    "            mv_info = soup.find('div', class_='mv_info')\n",
    "            mv_name = mv_info.find('h3', class_='h_movie').a.get_text() .strip('\\r\\t\\n')   \n",
    "            mv_name_lst.append(mv_name)\n",
    "        except :\n",
    "            print(f'{movie_code}, 영화 제목 부분 오류')\n",
    "        \n",
    "        # 영화 평점            \n",
    "        try :\n",
    "            score = soup.find('a', id='actualPointPersentBasic').find_all('em')\n",
    "            score_point = f\"{score[0].get_text()}{score[1].get_text()}{score[2].get_text()}{score[3].get_text()}\"\n",
    "            score_point_lst.append(score_point)\n",
    "        except :\n",
    "            print(f'{movie_code}, 관람객 평점 부분 오류 ')\n",
    "\n",
    "        try :\n",
    "            spc_score = mv_info.find('div', class_='spc_score_area').find_all('em')[1:]\n",
    "            spc_point = f\"{spc_score[0].get_text()}{spc_score[1].get_text()}{spc_score[2].get_text()}{spc_score[3].get_text()}\"\n",
    "            spc_point_lst.append(spc_point)\n",
    "        except :\n",
    "            print(f'{movie_code}, 기자 평론가 평점 부분 오류 ')\n",
    "        try :\n",
    "            net_score = soup.find('a', id='pointNetizenPersentBasic').find_all('em')\n",
    "            net_point = f\"{net_score[0].get_text()}{net_score[1].get_text()}{net_score[2].get_text()}{net_score[3].get_text()}\"\n",
    "            net_point_lst.append(net_point)\n",
    "        except :\n",
    "            print(f'{movie_code}, 네티즌 평점 부분 오류 ')    \n",
    "    \n",
    "        \n",
    "        # 영화 장르, 국가, 개봉일\n",
    "        try :\n",
    "            dl_tag = soup.find('dl', class_='info_spec')\n",
    "            info = dl_tag.find_all('a')\n",
    "        except :\n",
    "            print(f'{movie_code}, 장르, 국가, 개봉일 접근 오류')\n",
    "        else :\n",
    "            try :\n",
    "                for i in info :\n",
    "                    if i['href'].find('genre') != -1 :\n",
    "                        genre_lst.append(i.get_text().strip('\\r\\t\\n'))\n",
    "                    elif i['href'].find('nation') != -1 :\n",
    "                        nation_lst.append(i.get_text().strip('\\r\\t\\n'))\n",
    "                    elif i['href'].find('open') != -1 :\n",
    "                        open_lst.append(i.get_text().strip('\\r\\t\\n'))\n",
    "                    else :\n",
    "                        pass\n",
    "            except :\n",
    "                print(f'{movie_code},  장르, 국가, 개봉일 접근 후 데이터 입력시 오류')\n",
    "          \n",
    "    return mv_name_lst, score_point_lst, spc_point_lst, net_point_lst, genre_lst, nation_lst, open_lst   "
   ]
  },
  {
   "cell_type": "markdown",
   "id": "hungry-physiology",
   "metadata": {
    "id": "hungry-physiology"
   },
   "source": [
    "### get_actor_director 감독, 배우 가져오는 함수"
   ]
  },
  {
   "cell_type": "code",
   "execution_count": 20,
   "id": "silent-possible",
   "metadata": {
    "executionInfo": {
     "elapsed": 306,
     "status": "ok",
     "timestamp": 1629034457218,
     "user": {
      "displayName": "이종원",
      "photoUrl": "",
      "userId": "14753463302396753104"
     },
     "user_tz": -540
    },
    "id": "silent-possible"
   },
   "outputs": [],
   "source": [
    "def get_actor_director(movie_code) :\n",
    "    '''\n",
    "    영화 감독, 배우 가져오는 함수\n",
    "    input : movie_code = 영화 코드\n",
    "    return : actor_lst, director_lst : 배우, 감독을 담은 list형태\n",
    "    '''\n",
    "    actor_lst, director_lst = [], []\n",
    "    try :\n",
    "        url_ac = f\"https://movie.naver.com/movie/bi/mi/detail.naver?code={movie_code}\"\n",
    "        page_ac = urlopen(url_ac)\n",
    "        soup_ac = BeautifulSoup(page_ac, 'html.parser')\n",
    "    except HTTPError as e :\n",
    "        print(f'{movie_code}, HTTP Error 입니다.', e)\n",
    "    except URLError as e :\n",
    "        print(f'{movie_code}, URL Error 입니다.', e)\n",
    "    except :\n",
    "        print(f'{movie_code}, 오류')\n",
    "    else :\n",
    "        ###### 배우\n",
    "        try :\n",
    "            act = soup_ac.find('ul', class_ = 'lst_people')\n",
    "            actor_name = act.find_all('a', class_='k_name')\n",
    "        except :\n",
    "            print('배우 태그 접근 오류')\n",
    "        else :\n",
    "            for a in actor_name :\n",
    "                actor_lst.append(a.get_text().strip('\\r\\t\\n'))\n",
    "\n",
    "        ###### 감독\n",
    "        try :        \n",
    "            direc = soup_ac.find('div', class_='director')\n",
    "            direc_name = direc.find_all('a', class_='k_name')\n",
    "        except :\n",
    "            print('감독 태그 접근 오류')\n",
    "        else :\n",
    "            for d in direc_name :\n",
    "                director_lst.append(d.get_text().strip('\\r\\t\\n'))\n",
    "        \n",
    "    return  actor_lst, director_lst"
   ]
  },
  {
   "cell_type": "markdown",
   "id": "fiscal-rental",
   "metadata": {
    "id": "fiscal-rental"
   },
   "source": [
    "### get_prefer_info : 선호 연령 & 성별, 감상 포인트 가져오는 함수"
   ]
  },
  {
   "cell_type": "code",
   "execution_count": 21,
   "id": "collective-mitchell",
   "metadata": {
    "executionInfo": {
     "elapsed": 310,
     "status": "ok",
     "timestamp": 1629034460393,
     "user": {
      "displayName": "이종원",
      "photoUrl": "",
      "userId": "14753463302396753104"
     },
     "user_tz": -540
    },
    "id": "collective-mitchell"
   },
   "outputs": [],
   "source": [
    "def get_prefer_info(movie_code) :\n",
    "    '''\n",
    "    선호 연령, 성별, 감상 포인트 가져오는 함수\n",
    "    input : movie_code = 영화 코드\n",
    "    return : prefer_lst(선호 연령&성별), view_point_lst(감상포인트), directing_lst(연출 선호 비율) \n",
    "            acting_lst(연기 선호 비율), story_lst(스토리 선호 비율), v_beauty_lst(영상미 선호 비율), ost_lst(ost 선호 비율)\n",
    "    '''\n",
    "    prefer_lst, view_point_lst, directing_lst, acting_lst, story_lst, v_beauty_lst, ost_lst = [], [], [], [], [], [], []\n",
    "    try :\n",
    "        url_pv = f'https://movie.naver.com/movie/bi/mi/point.naver?code={movie_code}'\n",
    "        page_pv = urlopen(url_pv)\n",
    "        soup_pv = BeautifulSoup(page_pv, 'html.parser')\n",
    "    except HTTPError as e :\n",
    "        print(f'{movie_code}, HTTP Error 입니다.', e)\n",
    "    except URLError as e :\n",
    "        print(f'{movie_code}, URL Error 입니다.', e)\n",
    "    except :\n",
    "        print(f'{movie_code}, 오류')\n",
    "    else :\n",
    "        ## 선호 연령& 성별\n",
    "        try :\n",
    "            comment = soup_pv.find('strong', class_='grp_review').get_text()\n",
    "        except :\n",
    "            print('평점 없음')\n",
    "        else :\n",
    "            prefer_lst.append(comment[6:12])\n",
    "            view_point_lst.append(comment[19:-12])\n",
    "\n",
    "\n",
    "            # 감상포인트 선호 비율\n",
    "            try : \n",
    "                view_point_rate = soup_pv.find('ul', class_='grp_point').find_all('span', class_='grp_score')\n",
    "            except :\n",
    "                print('감상 포인트 선호 비율 없음')\n",
    "            else :\n",
    "                directing_lst.append(view_point_rate[0].get_text().strip('\\r\\t\\n'))\n",
    "                acting_lst.append(view_point_rate[1].get_text().strip('\\r\\t\\n'))\n",
    "                story_lst.append(view_point_rate[2].get_text().strip('\\r\\t\\n'))\n",
    "                v_beauty_lst.append(view_point_rate[3].get_text().strip('\\r\\t\\n'))\n",
    "                ost_lst.append(view_point_rate[4].get_text().strip('\\r\\t\\n'))\n",
    "                \n",
    "    return prefer_lst, view_point_lst, directing_lst, acting_lst, story_lst, v_beauty_lst, ost_lst"
   ]
  },
  {
   "cell_type": "markdown",
   "id": "driven-philippines",
   "metadata": {
    "id": "driven-philippines"
   },
   "source": [
    "### get_comment : 영화 평점 comment, id 가져오는 함수"
   ]
  },
  {
   "cell_type": "code",
   "execution_count": 22,
   "id": "modular-rebound",
   "metadata": {
    "executionInfo": {
     "elapsed": 301,
     "status": "ok",
     "timestamp": 1629034464528,
     "user": {
      "displayName": "이종원",
      "photoUrl": "",
      "userId": "14753463302396753104"
     },
     "user_tz": -540
    },
    "id": "modular-rebound"
   },
   "outputs": [],
   "source": [
    "## 영화 평점, comment 가져오는 함수\n",
    "def get_comment(movie_code) :\n",
    "    '''\n",
    "    영화 평점 id, comment를 가져오는 함수\n",
    "    input : movie_code = 영화 코드\n",
    "    return : {id, (score, comment)}의 dict형태를 담은 리스트\n",
    "                - key : id\n",
    "                - value : (score, comment)\n",
    "    '''\n",
    "    page_no = 0\n",
    "    comment_lst = []\n",
    "    try :\n",
    "        url_comment = f\"https://movie.naver.com/movie/bi/mi/pointWriteFormList.naver?code={movie_code}&type=after&isActualPointWriteExecute=false&isMileageSubscriptionAlready=false&isMileageSubscriptionReject=false&page={page_no+1}\"\n",
    "        page_comment = urlopen(url_comment)\n",
    "        soup_comment = BeautifulSoup(page_comment, 'html.parser')\n",
    "        total_comment = int(soup_comment.find('strong', class_='total').em.get_text().strip('\\r\\t\\n').replace(',', \"\"))\n",
    "        page_total_no = math.ceil(total_comment/10) \n",
    "    except HTTPError as e :\n",
    "        print(f'{movie_code}, HTTP Error 입니다.', e)\n",
    "    except URLError as e :\n",
    "        print(f'{movie_code}, URL Error 입니다.', e)\n",
    "    except :\n",
    "        print(f'{movie_code}, 평점 코멘트 부분 오류')\n",
    "    else :  \n",
    "        page_total_no = math.ceil(total_comment/10)  \n",
    "\n",
    "        for page_no in range(page_total_no) :\n",
    "            try : \n",
    "                url_comment = f\"https://movie.naver.com/movie/bi/mi/pointWriteFormList.naver?code={movie_code}&type=after&isActualPointWriteExecute=false&isMileageSubscriptionAlready=false&isMileageSubscriptionReject=false&page={page_no+1}\"\n",
    "                page_comment = urlopen(url_comment)\n",
    "                soup_comment = BeautifulSoup(page_comment, 'html.parser')\n",
    "            except HTTPError as e :\n",
    "                print(f'{movie_code}, HTTP Error 입니다.', e)\n",
    "            except URLError as e :\n",
    "                print(f'{movie_code}, URL Error 입니다.', e)\n",
    "            else :    \n",
    "                for i in range(10) :\n",
    "                    try :\n",
    "                        comment_tag = soup_comment.find_all('div', class_='score_reple')[i]\n",
    "                        comment = comment_tag.find('span', id=f'_filtered_ment_{i}').get_text().strip('\\r\\t\\n')\n",
    "                        comment_id = comment_tag.find_all('span')[-1].get_text().strip('\\r\\t\\n')\n",
    "                        comment_rate = soup_comment.find_all('div', class_='star_score')[i].em.get_text().strip('\\r\\t\\n')\n",
    "                        \n",
    "                        # id와 comment를 dict형식으로 넣는다\n",
    "                        comment_dict = dict({comment_id : (comment_rate ,comment)})\n",
    "                        comment_lst.append(comment_dict)\n",
    "                    \n",
    "                    except:\n",
    "                        pass  \n",
    "                    \n",
    "    return comment_lst"
   ]
  },
  {
   "cell_type": "markdown",
   "id": "featured-conference",
   "metadata": {
    "id": "featured-conference"
   },
   "source": [
    "### get_related_movie : 관련 영화 가져오기"
   ]
  },
  {
   "cell_type": "code",
   "execution_count": 23,
   "id": "worth-default",
   "metadata": {
    "executionInfo": {
     "elapsed": 322,
     "status": "ok",
     "timestamp": 1629034467062,
     "user": {
      "displayName": "이종원",
      "photoUrl": "",
      "userId": "14753463302396753104"
     },
     "user_tz": -540
    },
    "id": "worth-default"
   },
   "outputs": [],
   "source": [
    "def get_related_movie(movie_code) :\n",
    "    '''\n",
    "    관련 영화 가져오는 함수\n",
    "    input : movie_code = 영화 코드\n",
    "    return : \n",
    "    '''\n",
    "    relate_movie_lst = []\n",
    "    try :\n",
    "        url_relate = f\"https://movie.naver.com/movie/bi/mi/scriptAndRelate.naver?code={movie_code}\"\n",
    "        page_relate = urlopen(url_relate)\n",
    "        soup_relate = BeautifulSoup(page_relate, 'html.parser')\n",
    "    except HTTPError as e :\n",
    "        print(f'{movie_code}, HTTP Error 입니다.', e)\n",
    "    except URLError as e :\n",
    "        print(f'{movie_code}, URL Error 입니다.', e)\n",
    "    except :\n",
    "        print(f'{movie_code}, 오류')\n",
    "    else :\n",
    "        try :\n",
    "            rm_lst = soup_relate.find_all('a', class_='movie_title')\n",
    "            for rmovie in rm_lst :\n",
    "                relate_movie_lst.append(rmovie.get_text().strip('\\r\\t\\n'))\n",
    "        except :\n",
    "            print(f'{movie_code}, 관련 영화 관련 오류')\n",
    "    return relate_movie_lst"
   ]
  },
  {
   "cell_type": "markdown",
   "id": "veterinary-sleeve",
   "metadata": {
    "id": "veterinary-sleeve"
   },
   "source": [
    "## DataFrame 생성"
   ]
  },
  {
   "cell_type": "code",
   "execution_count": null,
   "id": "gentle-torture",
   "metadata": {
    "id": "gentle-torture"
   },
   "outputs": [],
   "source": [
    "cols =['영화코드', '영화제목', '관람객평점', '기자평론가평점', '네티즌평점', '장르', '국가', '개봉일', \n",
    "        '배우', '감독', '선호연령성별', '감상포인트', '연출선호', '연기선호', '스토리선호', '영상미선호', 'ost선호',\n",
    "      'comment', '관련영화']\n",
    "\n",
    "df = pd.DataFrame(np.zeros((230000, 19)), columns=cols)\n",
    "df"
   ]
  },
  {
   "cell_type": "markdown",
   "id": "behavioral-choice",
   "metadata": {
    "id": "behavioral-choice"
   },
   "source": [
    "## 크롤링 수행 : multiprocessing"
   ]
  },
  {
   "cell_type": "code",
   "execution_count": null,
   "id": "outdoor-strip",
   "metadata": {
    "id": "outdoor-strip"
   },
   "outputs": [],
   "source": [
    "# movie = list(range(10000, 10003))\n",
    "\n",
    "def crawling_with_table(start_code, finish_code) :\n",
    "    \n",
    "    for i, movie_code in range(start_code, finish_code):\n",
    "        print(f'-------------------------{start_code + i}번째------------------------------')\n",
    "        print(i, movie_code)\n",
    "        mv_name, score_point, spc_point, net_point, genre, nation, opend = get_movie_info(movie_code)\n",
    "        if len(mv_name) == 0 :\n",
    "            pass\n",
    "        else :\n",
    "            actor, director = get_actor_director(movie_code)\n",
    "            prefer, view_point, directing, acting, story, v_beauty, ost = get_prefer_info(movie_code)\n",
    "            comment = get_comment(movie_code)\n",
    "            relate_movie = get_related_movie(movie_code)\n",
    "\n",
    "            data_lst = [movie_code, mv_name, score_point, spc_point, net_point, genre, nation, opend,\n",
    "                       actor, director,\n",
    "                       prefer, view_point, directing, acting, story, v_beauty, ost,\n",
    "                       comment, relate_movie]                                     \n",
    "            for j, data in enumerate(data_lst) :\n",
    "                if j == 0 :\n",
    "                    df.iloc[i, j] = data\n",
    "                elif len(data) == 1 :\n",
    "                    df.iloc[i, j] = data[0]\n",
    "                elif len(data) > 1 :\n",
    "                    df.iloc[i, j] = str(data).strip(\"[]\")\n",
    "                else :\n",
    "                    pass\n",
    "    df.to_csv(f'./crawling/df_{start_code}_{finish_code}.csv', index=False)\n",
    "    print('---------끝---------------------')"
   ]
  },
  {
   "cell_type": "markdown",
   "id": "sharp-pastor",
   "metadata": {
    "id": "sharp-pastor"
   },
   "source": [
    "### Multiprocessig"
   ]
  },
  {
   "cell_type": "code",
   "execution_count": null,
   "id": "cardiovascular-murder",
   "metadata": {
    "id": "cardiovascular-murder"
   },
   "outputs": [],
   "source": [
    "# 코어 20개로 크롤링하기(속도 x20배 빠르게)\n",
    "\n",
    "def poolcontext(*args, **kwargs):\n",
    "    pool = multiprocessing.Pool(*args, **kwargs)\n",
    "    yield pool\n",
    "    pool.terminate()\n",
    "\n",
    "if __name__=='__main__':\n",
    "    start_time = time.time()\n",
    "    inputs = [10001, 20001, 30001, 40001, 50001, 60001, 70001, 80001, 90001, 100001, 110001, 120001, 130001, 140001, 150001, 160001, 170001, 180001, 190001, 200001]\n",
    "    outputs = [20000, 30000, 40000, 50000, 60000, 70000, 80000, 90000, 100000, 110000, 120000, 130000, 140000, 150000, 160000, 170000, 180000, 190000, 200000, 210000]\n",
    "\n",
    "    pool = Pool(processes=20)\n",
    "    pool.starmap(crawling_with_table, zip(inputs, outputs))\n",
    "    print(\"--- %s seconds ---\" % (time.time() - start_time))"
   ]
  },
  {
   "cell_type": "markdown",
   "id": "4af0b90b",
   "metadata": {
    "id": "4af0b90b"
   },
   "source": [
    "## 출력된 엑셀 파일 병합\n",
    "\n",
    "+ colab과 다른 컴퓨터와 병행해서 크롤링을 수행했습니다!."
   ]
  },
  {
   "cell_type": "markdown",
   "id": "black-finance",
   "metadata": {
    "id": "black-finance"
   },
   "source": [
    "### glob을 통해 파일 위치 접근 후 csv파일만 불러온다"
   ]
  },
  {
   "cell_type": "code",
   "execution_count": null,
   "id": "ideal-frontier",
   "metadata": {
    "id": "ideal-frontier"
   },
   "outputs": [],
   "source": [
    "csv_lst = glob.glob(pathname = './movie/*.csv')\n",
    "read_csv_lst =[i[8:] for i in csv_lst]\n",
    "read_csv_lst"
   ]
  },
  {
   "cell_type": "markdown",
   "id": "immediate-tuesday",
   "metadata": {
    "id": "immediate-tuesday"
   },
   "source": [
    "##### csv파일을 반복문으로 합치기 위해서 첫번째 df를 미리 만들어 놓는다."
   ]
  },
  {
   "cell_type": "code",
   "execution_count": null,
   "id": "saved-ethnic",
   "metadata": {
    "id": "saved-ethnic"
   },
   "outputs": [],
   "source": [
    "i = read_csv_lst[0]\n",
    "df_raw  = pd.read_csv(f\"./movie/{i}\")\n",
    "df_first = df_raw[df_raw['영화코드']!=0].copy()\n",
    "df_first"
   ]
  },
  {
   "cell_type": "code",
   "execution_count": null,
   "id": "considered-excuse",
   "metadata": {
    "id": "considered-excuse"
   },
   "outputs": [],
   "source": [
    "for i in read_csv_lst[1:] :\n",
    "    df_raw  = pd.read_csv(f\"./movie/{i}\")\n",
    "    df_remove = df_raw[df_raw['영화코드']!=0].copy()\n",
    "    df_first = df_first.append(df_remove)\n",
    "\n",
    "## 다 끝나면 index를 reset해준다.\n",
    "crwaling_final = df_first.reset_index(drop=True)"
   ]
  },
  {
   "cell_type": "code",
   "execution_count": null,
   "id": "bde2284d",
   "metadata": {
    "id": "bde2284d"
   },
   "outputs": [],
   "source": [
    "crwaling_final = crwaling_final.sort_values(by='영화코드').reset_index(drop=True)\n",
    "crwaling_final.to_csv('./df_final.csv', index=False)"
   ]
  },
  {
   "cell_type": "markdown",
   "id": "eastern-cuisine",
   "metadata": {
    "id": "practical-avenue"
   },
   "source": [
    "## 크롤링한 데이터의 한계 및 KMRD 데이터셋을 사용하는 이유"
   ]
  },
  {
   "cell_type": "code",
   "execution_count": null,
   "id": "loving-trout",
   "metadata": {},
   "outputs": [],
   "source": [
    "# 영화에 Comment 있는 부분만 추출\n",
    "data = pd.read_csv('./df_final.csv')\n",
    "data = data[data['comment'] != '0.0']"
   ]
  },
  {
   "cell_type": "code",
   "execution_count": 17,
   "id": "canadian-registration",
   "metadata": {
    "scrolled": false
   },
   "outputs": [
    {
     "data": {
      "text/html": [
       "<div>\n",
       "<style scoped>\n",
       "    .dataframe tbody tr th:only-of-type {\n",
       "        vertical-align: middle;\n",
       "    }\n",
       "\n",
       "    .dataframe tbody tr th {\n",
       "        vertical-align: top;\n",
       "    }\n",
       "\n",
       "    .dataframe thead th {\n",
       "        text-align: right;\n",
       "    }\n",
       "</style>\n",
       "<table border=\"1\" class=\"dataframe\">\n",
       "  <thead>\n",
       "    <tr style=\"text-align: right;\">\n",
       "      <th></th>\n",
       "      <th>영화코드</th>\n",
       "      <th>영화제목</th>\n",
       "      <th>관람객평점</th>\n",
       "      <th>기자평론가평점</th>\n",
       "      <th>네티즌평점</th>\n",
       "      <th>장르</th>\n",
       "      <th>국가</th>\n",
       "      <th>개봉일</th>\n",
       "      <th>배우</th>\n",
       "      <th>감독</th>\n",
       "      <th>선호연령성별</th>\n",
       "      <th>감상포인트</th>\n",
       "      <th>연출선호</th>\n",
       "      <th>연기선호</th>\n",
       "      <th>스토리선호</th>\n",
       "      <th>영상미선호</th>\n",
       "      <th>ost선호</th>\n",
       "      <th>comment</th>\n",
       "      <th>관련영화</th>\n",
       "    </tr>\n",
       "  </thead>\n",
       "  <tbody>\n",
       "    <tr>\n",
       "      <th>8826</th>\n",
       "      <td>18988.0</td>\n",
       "      <td>라이언 일병 구하기</td>\n",
       "      <td>0.0</td>\n",
       "      <td>0.0</td>\n",
       "      <td>9.43</td>\n",
       "      <td>'전쟁', '액션', '드라마'</td>\n",
       "      <td>미국</td>\n",
       "      <td>' 1998', '.09.12'</td>\n",
       "      <td>'톰 행크스', '에드워드 번즈', '톰 시즈모어', '제레미 데이비스', '빈 디...</td>\n",
       "      <td>스티븐 스필버그</td>\n",
       "      <td>10대 남성</td>\n",
       "      <td>연출</td>\n",
       "      <td>26%</td>\n",
       "      <td>22%</td>\n",
       "      <td>22%</td>\n",
       "      <td>19%</td>\n",
       "      <td>12%</td>\n",
       "      <td>{'PS십장생(dydq****)': ('10', '점수 적게줘서 미안 이것밖에 못주...</td>\n",
       "      <td>'퓨리', '더 킹: 독립 전쟁', '그린 존', '300: 제국의 부활', '보일...</td>\n",
       "    </tr>\n",
       "    <tr>\n",
       "      <th>47020</th>\n",
       "      <td>62496.0</td>\n",
       "      <td>아름다운 죄</td>\n",
       "      <td>0.0</td>\n",
       "      <td>0.0</td>\n",
       "      <td>1.00</td>\n",
       "      <td>드라마</td>\n",
       "      <td>0.0</td>\n",
       "      <td>' 1991', '.07.13'</td>\n",
       "      <td>'미라 풀란', '밀루틴 카라드직', '미라 반잭'</td>\n",
       "      <td>지브코 니콜릭</td>\n",
       "      <td>0.0</td>\n",
       "      <td>0.0</td>\n",
       "      <td>0.0</td>\n",
       "      <td>0.0</td>\n",
       "      <td>0.0</td>\n",
       "      <td>0.0</td>\n",
       "      <td>0.0</td>\n",
       "      <td>caca****</td>\n",
       "      <td>'행복의 세가지 조건', '씨버너스', '테이크 어 딥 브레스', '몬테비디오, 갓...</td>\n",
       "    </tr>\n",
       "    <tr>\n",
       "      <th>1573</th>\n",
       "      <td>11585.0</td>\n",
       "      <td>탈주자</td>\n",
       "      <td>0.0</td>\n",
       "      <td>0.0</td>\n",
       "      <td>8.64</td>\n",
       "      <td>'액션', '범죄', '드라마', '멜로/로맨스', '스릴러'</td>\n",
       "      <td>미국</td>\n",
       "      <td>' 1993', '.04.10'</td>\n",
       "      <td>'장 끌로드 반담', '로잔나 아퀘트', '키에란 컬킨', '테드 레빈', '티파니...</td>\n",
       "      <td>로버트 하몬</td>\n",
       "      <td>30대 남성</td>\n",
       "      <td>스토리, 연출</td>\n",
       "      <td>31%</td>\n",
       "      <td>27%</td>\n",
       "      <td>31%</td>\n",
       "      <td>12%</td>\n",
       "      <td>0%</td>\n",
       "      <td>{'ccung(wjsr****)': ('6', '액션보단 감성이 좀 더 풍부한 이례...</td>\n",
       "      <td>'블랙 위도우: 파이널 챕터', '마약전쟁', '천재 사기꾼 돈: 세상을 속여라',...</td>\n",
       "    </tr>\n",
       "  </tbody>\n",
       "</table>\n",
       "</div>"
      ],
      "text/plain": [
       "          영화코드        영화제목  관람객평점  기자평론가평점  네티즌평점  \\\n",
       "8826   18988.0  라이언 일병 구하기    0.0      0.0   9.43   \n",
       "47020  62496.0      아름다운 죄    0.0      0.0   1.00   \n",
       "1573   11585.0         탈주자    0.0      0.0   8.64   \n",
       "\n",
       "                                       장르   국가                개봉일  \\\n",
       "8826                    '전쟁', '액션', '드라마'   미국  ' 1998', '.09.12'   \n",
       "47020                                 드라마  0.0  ' 1991', '.07.13'   \n",
       "1573   '액션', '범죄', '드라마', '멜로/로맨스', '스릴러'   미국  ' 1993', '.04.10'   \n",
       "\n",
       "                                                      배우        감독  선호연령성별  \\\n",
       "8826   '톰 행크스', '에드워드 번즈', '톰 시즈모어', '제레미 데이비스', '빈 디...  스티븐 스필버그  10대 남성   \n",
       "47020                       '미라 풀란', '밀루틴 카라드직', '미라 반잭'   지브코 니콜릭     0.0   \n",
       "1573   '장 끌로드 반담', '로잔나 아퀘트', '키에란 컬킨', '테드 레빈', '티파니...    로버트 하몬  30대 남성   \n",
       "\n",
       "         감상포인트 연출선호 연기선호 스토리선호 영상미선호 ost선호  \\\n",
       "8826        연출  26%  22%   22%   19%   12%   \n",
       "47020      0.0  0.0  0.0   0.0   0.0   0.0   \n",
       "1573   스토리, 연출  31%  27%   31%   12%    0%   \n",
       "\n",
       "                                                 comment  \\\n",
       "8826   {'PS십장생(dydq****)': ('10', '점수 적게줘서 미안 이것밖에 못주...   \n",
       "47020                                           caca****   \n",
       "1573   {'ccung(wjsr****)': ('6', '액션보단 감성이 좀 더 풍부한 이례...   \n",
       "\n",
       "                                                    관련영화  \n",
       "8826   '퓨리', '더 킹: 독립 전쟁', '그린 존', '300: 제국의 부활', '보일...  \n",
       "47020  '행복의 세가지 조건', '씨버너스', '테이크 어 딥 브레스', '몬테비디오, 갓...  \n",
       "1573   '블랙 위도우: 파이널 챕터', '마약전쟁', '천재 사기꾼 돈: 세상을 속여라',...  "
      ]
     },
     "execution_count": 17,
     "metadata": {},
     "output_type": "execute_result"
    }
   ],
   "source": [
    "data.sample(3)"
   ]
  },
  {
   "cell_type": "markdown",
   "id": "established-zealand",
   "metadata": {},
   "source": [
    "|**User id 정보** | **User별 평점 페이지** |\n",
    "|-------------|-------|\n",
    "|![userid](./image/userid.PNG)|![userid2](./image/userid2.PNG)|\n",
    "\n",
    "* **DeepFM을 사용하기 위해서는 User rating정보가 필요한데 이 부분에서 문제가 발생했습니다.**\n",
    "* 앞자리만 같은 서로다른 유저들의 정보가 중복되어 Input데이터가 오염될 우려가 존재하여 사용하지 못했습니다.\n",
    "* 유저별로 평점을 모아놓은 사이트를 찾아서 크롤링을 수행하려고 했으나, user id가 1700만개 이상이 존재했고, 그에 따라서 최소 1700만개의 사이트를 접근해야 했습니다..\n",
    "    - 컴퓨터 Resource의 한계로 그렇게 진행하지 못했습니다..\n",
    "\n",
    "* 그에 따라 KMRD dataset(Naver 영화 평점 데이터셋)을 사용하게 되었습니다."
   ]
  },
  {
   "cell_type": "markdown",
   "id": "visible-pointer",
   "metadata": {
    "id": "visible-pointer"
   },
   "source": [
    "# DeepFM model"
   ]
  },
  {
   "cell_type": "markdown",
   "id": "rocky-beijing",
   "metadata": {
    "id": "rocky-beijing"
   },
   "source": [
    "## DeepFM 모델 설명\n",
    "\n",
    "### DeepFM의 구조\n",
    "\n",
    "![deepfm3](./image/deepfm3.PNG)"
   ]
  },
  {
   "cell_type": "markdown",
   "id": "standing-malaysia",
   "metadata": {},
   "source": [
    "* **CTR prediction data**\n",
    "    - CTR 데이터는 일반적으로 아래와 같은 특성을 가지고 있어서, 학습 과정에서 새로운 모델을 만들어야 했습니다. \n",
    "        + **Highly sparse**\n",
    "        + **Super high-dimensional**\n",
    "        + **Categorical-continuous-mixed**\n",
    "        + **Grouped in fields**\n",
    "    - 따라서 고차원의 데이터를 낮은 차원으로 압축 시키기 위해서 데이터를 낮은 차원으로 **사상(Embedding)**하는 과정을 거쳤습니다.\n",
    "<br><br>\n",
    "* **Share Input, Embedding layer**\n",
    "    - DeepFM은 input data와 Embedding layer를 FM Component와 Deep Component가 공유합니다.\n",
    "    - 또한, FM, Deep 부분이 동시에 학습되기 때문에 FNN 모델에서 필요한 Pre-training 과정이 없습니다.\n",
    "<br><br>\n",
    "* **FM Component & Deep Component**\n",
    "    - DeepFM은 FM component와 Deep Component로 구분됩니다.\n",
    "    - FM Component은 Factorization Machine의 기법을 사용하며, low-order feature interaction 부분을 학습합니다.\n",
    "    - Deep Component는 DNN기법을 사용하며, high-order feature interaction 부분을 학습합니다."
   ]
  },
  {
   "cell_type": "markdown",
   "id": "outstanding-merit",
   "metadata": {},
   "source": [
    "### DeepFM 수식\n",
    "![k](./image/k.PNG)\n",
    "\n",
    "* DeepFM은 FM Component의 output과 Deep Component의 output의 합의 Sigmoid 값을 결과로 나타냅니다.\n",
    "* CTR predict 값은 0, 1로 Binanary Classification이므로 0.5를 기준으로 나눕니다."
   ]
  },
  {
   "cell_type": "markdown",
   "id": "european-earthquake",
   "metadata": {},
   "source": [
    "### DeepFM code 설명\n",
    "\n",
    "\n",
    "* DeepFM 코드는 논문의 저자가 구현한 코드를 기반으로 제 데이터에 맞게 수정하였습니다.\n",
    "* DeepFM 모델의 코드는 총 5개의 Class로 구성되어 있습니다.\n",
    "    - FM_linear Class, FM_pairwise Class, FeatureEmbedding Class, MultiLayerPerceptron Class으로 각 부분에 대해서 구성을 했고\n",
    "    - 이를 종합적으로 실행하여 Sigmoid값을 계산하는 DeepFM Class로 구성하였습니다.\n",
    "#### DeepFM Code의 구조\n",
    "\n",
    "|**DeepFM Code Structure**|\n",
    "|-------------------------|\n",
    "|![class](./image/d.PNG)|\n",
    "|**DeepFM Code Structure with equation**|\n",
    "|![class](./image/h2.PNG)|\n",
    "\n",
    "* FM_linear Class는 Feature_Embedding Class에서 embedding이 진행된 후 input 값을 받지 않고, 자체적으로 embedding을 진행합니다.\n"
   ]
  },
  {
   "cell_type": "markdown",
   "id": "legitimate-index",
   "metadata": {},
   "source": [
    "#### FM_linear Class & FM_pairwise Class"
   ]
  },
  {
   "cell_type": "markdown",
   "id": "refined-warrant",
   "metadata": {},
   "source": [
    "|**FM_linear Class**|**FM_pairwise Class** |\n",
    "|----------|----------------|\n",
    "|![fm_linear2](./image/fm_linear2.PNG)|![fm2](./image/fm2.PNG) |\n",
    "\n",
    "**FM_linear Class**\n",
    "\n",
    "* **FM Component에서 feature들 간의 linear(Order-1)한 관계에 대한 정보**를 제공해주는 부분 입니다.\n",
    "* Embedding을 위해서 categorical data를 numeric하게 변환하고, 숫자가 겹치지 않게, 각 컬럼의 최대 값을 누적으로 더해줍니다.\n",
    "* 위에 언급했듯이, Class내에서 **자체적으로 Embedding을 진행**하는데 그 이유는, embedding에 의한 output size가 1으로, 다른 Class과 **output size가 다르기 때문**입니다.\n",
    "<br><br>\n",
    "\n",
    "**FM_pairwise Class** \n",
    "* **FM Component에서 feature들 간의 pairwise(Order-2)한 관계에 대한 정보**를 제공해주는 부분 입니다.\n",
    "* Sparse한 데이터셋에 대해서 강력한 성능을 보여줍니다.\n",
    "* 이 부분에서 Factorization Machine의 latent vector들의 관계를 학습합니다.\n",
    "    - **Seems to high Complexity** : 실제로 모든 latent vector들의 관계에 대해서 계산해야 할거 같아서 연산량이 많아 보이지만\n",
    "    - **Linear Complexity** : 검은 부분(오른쪽 아래 점선 박스)의 식의 도출과정에 의해 연산과정이 Linear하게 변환 됩니다."
   ]
  },
  {
   "cell_type": "markdown",
   "id": "physical-revision",
   "metadata": {},
   "source": [
    "#### FeatureEmbedding Class\n",
    "\n",
    "\n"
   ]
  },
  {
   "cell_type": "markdown",
   "id": "brief-rebound",
   "metadata": {},
   "source": [
    "|**FM_linear Class**|\n",
    "|----------|\n",
    "|![embedding2](./image/embedding2.PNG)|"
   ]
  },
  {
   "cell_type": "markdown",
   "id": "optional-martin",
   "metadata": {},
   "source": [
    "**FeatureEmbedding Class** \n",
    "\n",
    "**Embedding**\n",
    "* 전체 Input 데이터에(**User 86458, Movie 48891, Genre 27, Total 135376**) 대해서 Embedding을 진행하는 부분입니다.\n",
    "    - User와 Movie의 Unique 값이 많아서 **32개의 차원으로 사상**을 진행했습니다.\n",
    "* **각 feature(User, Movie, Genre)별로 Embedding이 진행**되어 한개의 135376 크기의 vector를 input 했을 때 총 32차원의 Embedding 데이터가 3개가 발생합니다.\n",
    "\n",
    "* 각 Class별로 Embedding이 진행과, Embedding 후 데이터를 사용하는 방법에 차이가 있습니다.\n",
    "    - **`3.1.3.5  DeepFM Class`**에 설명이 있습니다.\n",
    "    \n",
    "**Initializer**\n",
    "* Embedding의 가중치의 초기화 함수는 **Xavier Uniform Initialization**를 사용했습니다."
   ]
  },
  {
   "cell_type": "markdown",
   "id": "metric-poetry",
   "metadata": {},
   "source": [
    "#### MultiLayerPerceptron Class\n",
    "\n"
   ]
  },
  {
   "cell_type": "markdown",
   "id": "august-subdivision",
   "metadata": {},
   "source": [
    "|**FM_linear Class**|\n",
    "|----------|\n",
    "|![deep3](./image/deep3.PNG)|\n",
    "\n",
    "\n",
    "**Hidden layer**\n",
    "* 논문의 Hyper parameter study를 참고하여 Hidden layer를 구성했습니다.\n",
    "    - **Hidden layer는 5층으로 구성**했고\n",
    "    - 각각의 층의 **neurons은 256, 256, 128, 64, 32**개로 **Decreasing Network Shape**으로 구성했습니다.\n",
    "        + 논문에 의하면 Decreasing Network Shape이 Logloss와 AUC에서 좋은 모습을 보여줬다고 한 점을 참고했습니다.\n",
    "    -  Activation function은 **ReLU**로 설정 했습니다.\n",
    "    - **Dropout은 0.2 ~ 0.3**으로 설정하였고, **first layer는 dropout을 설정하지 않았습니다**.\n",
    "        + Input 정보를 손실시키고 싶지 않았고, 경험상 first layer에 대해서 dropout을 설정하지 않는 것이 좋았었습니다."
   ]
  },
  {
   "cell_type": "markdown",
   "id": "consolidated-envelope",
   "metadata": {},
   "source": [
    "#### DeepFM Class\n",
    "\n"
   ]
  },
  {
   "cell_type": "markdown",
   "id": "adopted-tower",
   "metadata": {},
   "source": [
    "![class](./image/h2.PNG)"
   ]
  },
  {
   "cell_type": "markdown",
   "id": "meaning-liability",
   "metadata": {},
   "source": [
    "* DeepFM Class는 FM_linear, FM_pairwise, MultiLayerPereptron class에서 나온 값을 더하고 Sigmoid 함수에 넣어 결과를 출력해주는 부분 입니다."
   ]
  },
  {
   "cell_type": "code",
   "execution_count": null,
   "id": "bibliographic-hollywood",
   "metadata": {},
   "outputs": [],
   "source": [
    "class DeepFM(torch.nn.Module) :\n",
    "\n",
    "    def __init__(self, field_dims, embed_dim) :\n",
    "        super().__init__()\n",
    "        self.linear = FM_linear(field_dims)\n",
    "        self.fm = FM_pairwise()\n",
    "        self.embedding = FeaturesEmbedding(field_dims=field_dims, embed_dim=embed_dim)\n",
    "        self.embed_output_dim = len(field_dims) * embed_dim\n",
    "        self.mlp = MultiLayerPerceptron(input_dim=self.embed_output_dim)\n",
    "        \n",
    "    def forward(self, x) :\n",
    "        embed_x = self.embedding(x)\n",
    "        x = self.linear(x) + self.fm(embed_x) + self.mlp(embed_x.view(-1, self.embed_output_dim))\n",
    "\n",
    "        return torch.sigmoid(x.squeeze(1))"
   ]
  },
  {
   "cell_type": "markdown",
   "id": "blank-cisco",
   "metadata": {},
   "source": [
    "**각 Class별 Embedding 방법**\n",
    "* **FM_linear Class**는 자체적인 embedding을 진행하였습니다.\n",
    "* **FM_pairwise Class**는 135376 size vector를 embedding 했을 때 나오는 3X32 embedding vector를 열별로 더하고 계산을 진행합니다.\n",
    "* **MultiLayerPerceptron Class**는 3X32 embedding vector를 1X96으로 flatten한후 256개의 nueron을 갖는 hidden layer에 Input으로 넣습니다."
   ]
  },
  {
   "cell_type": "markdown",
   "id": "oriental-batman",
   "metadata": {},
   "source": [
    "## DeepFM 모델 구현\n",
    "\n",
    "* 모델의 코드는 저자가 구현한 코드를 기반으로 제 데이터에 맞게 수정하였습니다. "
   ]
  },
  {
   "cell_type": "code",
   "execution_count": 2,
   "id": "measured-firmware",
   "metadata": {
    "executionInfo": {
     "elapsed": 298,
     "status": "ok",
     "timestamp": 1629033999118,
     "user": {
      "displayName": "이종원",
      "photoUrl": "",
      "userId": "14753463302396753104"
     },
     "user_tz": -540
    },
    "id": "measured-firmware"
   },
   "outputs": [],
   "source": [
    "class FM_linear(torch.nn.Module) :\n",
    "    '''\n",
    "    Calculating FactorizationMachine's low interaction output\n",
    "    Reference :\n",
    "        Steffen Rendle : Factorization Machines, 2010\n",
    "    '''\n",
    "    def __init__(self, field_dims, output_dim=1) :\n",
    "        super().__init__()\n",
    "        self.fc = torch.nn.Embedding(sum(field_dims), output_dim)\n",
    "        self.bias = torch.nn.Parameter(torch.zeros((output_dim, )))\n",
    "        self.umg = np.array((0, *np.cumsum(field_dims)[:-1]), dtype=np.long)\n",
    "\n",
    "    def forward(self, x) :\n",
    "        '''\n",
    "        x : Long tensor of size (batch_size, num_fields)\n",
    "        if user_id is 1 ~ 100 and movie_id 1 ~ 100 and genre_id 1 ~ 20\n",
    "            chage user_id, movie_id, genre_id to 1 ~ 100, 101 ~ 200, 201 ~ 221 for making Desne Embedding \n",
    "        '''\n",
    "        x = x + x.new_tensor(self.umg).unsqueeze(0)\n",
    "        return torch.sum(self.fc(x), dim=1) + self.bias    \n",
    "    \n",
    "    \n",
    "class FeaturesEmbedding(torch.nn.Module) : \n",
    "    '''\n",
    "    Sparse Feature to Dense Embedding\n",
    "    Using Xavier initializer for initialize Dense embedding weights\n",
    "    '''\n",
    "    def __init__(self, field_dims, embed_dim) :\n",
    "        super().__init__()\n",
    "        self.embedding = torch.nn.Embedding(sum(field_dims), embed_dim)\n",
    "        self.users = np.array((0, *np.cumsum(field_dims)[:-1]), dtype=np.long)\n",
    "        torch.nn.init.xavier_uniform_(self.embedding.weight.data)\n",
    "        \n",
    "    def forward(self, x) :\n",
    "        '''\n",
    "        x : Long tensor of size (batch_size, num_fields)\n",
    "        '''\n",
    "        x = x + x.new_tensor(self.users).unsqueeze(0) \n",
    "        return self.embedding(x)\n",
    "        \n",
    "\n",
    "class FM_pairwise(torch.nn.Module) :\n",
    "    '''\n",
    "    Calculating FactorizationMachine's parwise interaction\n",
    "    Reference :\n",
    "        Steffen Rendle : Factorization MAchines, 2010\n",
    "    '''\n",
    "    def __init__(self):\n",
    "        super().__init__()\n",
    "        \n",
    "    def forward(self, x) :\n",
    "        '''\n",
    "        x : Float tensor of size (batch_size, num_fields, embed_dim)\n",
    "        '''\n",
    "        square_of_sum = torch.sum(x, dim=1) ** 2\n",
    "        sum_of_square = torch.sum(x ** 2, dim=1)\n",
    "        \n",
    "        k = square_of_sum - sum_of_square\n",
    "        pairwise_interaction = 0.5 * torch.sum(k, dim=1, keepdim=True)\n",
    "        \n",
    "        return pairwise_interaction\n",
    "\n",
    "class MultiLayerPerceptron(torch.nn.Module) :\n",
    "\n",
    "    def __init__(self, input_dim) :\n",
    "        super().__init__()\n",
    "        layers = list()\n",
    "        \n",
    "        # 1'st hidden layer - 512 feature, BatchNormalizer, ReLu Activation, Not Dropout \n",
    "        layers.append(torch.nn.Linear(input_dim, 256))\n",
    "        layers.append(torch.nn.BatchNorm1d(256))\n",
    "        layers.append(torch.nn.ReLU())\n",
    "        \n",
    "        # 2'nd hidden layer - 256 feature, BatchNormalizer, ReLu Activation, Dropout 30% \n",
    "        layers.append(torch.nn.Linear(256, 256))\n",
    "        layers.append(torch.nn.BatchNorm1d(256))\n",
    "        layers.append(torch.nn.ReLU())\n",
    "        layers.append(torch.nn.Dropout(p=0.3))\n",
    "\n",
    "        # 3'rd hidden layer - 128 feature, BatchNormalizer, ReLu Activation, Dropout 30% \n",
    "        layers.append(torch.nn.Linear(256, 128))\n",
    "        layers.append(torch.nn.BatchNorm1d(128))\n",
    "        layers.append(torch.nn.ReLU())\n",
    "        layers.append(torch.nn.Dropout(p=0.3))\n",
    "\n",
    "        # 4'th hidden layer - 64 feature, BatchNormalizer, ReLu Activation, Dropout 20%\n",
    "        layers.append(torch.nn.Linear(128,64))\n",
    "        layers.append(torch.nn.BatchNorm1d(64))\n",
    "        layers.append(torch.nn.ReLU())\n",
    "        layers.append(torch.nn.Dropout(p=0.2))\n",
    "        \n",
    "        # 5'th hidden layer - 32 feature, BatchNormalizer, ReLu Activation, Dropout 20%\n",
    "        layers.append(torch.nn.Linear(64,32))\n",
    "        layers.append(torch.nn.BatchNorm1d(32))\n",
    "        layers.append(torch.nn.ReLU())\n",
    "        layers.append(torch.nn.Dropout(p=0.2))        \n",
    "        \n",
    "        # output layer\n",
    "        layers.append(torch.nn.Linear(32, 1))\n",
    "        \n",
    "        self.mlp = torch.nn.Sequential(*layers)\n",
    "        \n",
    "    def forward(self, x) :\n",
    "        \n",
    "        return self.mlp(x)"
   ]
  },
  {
   "cell_type": "code",
   "execution_count": 3,
   "id": "blond-cherry",
   "metadata": {
    "executionInfo": {
     "elapsed": 303,
     "status": "ok",
     "timestamp": 1629034004227,
     "user": {
      "displayName": "이종원",
      "photoUrl": "",
      "userId": "14753463302396753104"
     },
     "user_tz": -540
    },
    "id": "blond-cherry"
   },
   "outputs": [],
   "source": [
    "class DeepFM(torch.nn.Module) :\n",
    "    '''\n",
    "    Implementation of DeepFM\n",
    "    Reference :\n",
    "        H Guo, et al. DeepFM: A Factorization-Machine based Neural Network for CTR Prediction, 2017.\n",
    "    '''\n",
    "    def __init__(self, field_dims, embed_dim) :\n",
    "        super().__init__()\n",
    "        self.linear = FM_linear(field_dims)\n",
    "        self.fm = FM_pairwise()\n",
    "        self.embedding = FeaturesEmbedding(field_dims=field_dims, embed_dim=embed_dim)\n",
    "        self.embed_output_dim = len(field_dims) * embed_dim\n",
    "        self.mlp = MultiLayerPerceptron(input_dim=self.embed_output_dim)\n",
    "        \n",
    "    def forward(self, x) :\n",
    "        '''\n",
    "        x : Long tensor of size (batch_size, num_fields)\n",
    "        '''\n",
    "        embed_x = self.embedding(x)\n",
    "        x = self.linear(x) + self.fm(embed_x) + self.mlp(embed_x.view(-1, self.embed_output_dim))\n",
    "\n",
    "        return torch.sigmoid(x.squeeze(1))"
   ]
  },
  {
   "cell_type": "markdown",
   "id": "recreational-visit",
   "metadata": {
    "id": "recreational-visit"
   },
   "source": [
    "# KMRDataset Class 구현\n",
    "\n",
    "## KMRD 데이터의 특징"
   ]
  },
  {
   "cell_type": "markdown",
   "id": "indirect-courage",
   "metadata": {
    "id": "brilliant-smile"
   },
   "source": [
    "**내 정보를 추가하는 부분**\n",
    "\n",
    "* **`good_movie_code_lst`(10점 주고 싶은 영화)** \n",
    "    * **Movie Code** : [44885, 49008, 70254, 119428, 125459, 134963, 96379, 115977, 69689]\n",
    "    * **Movie Name** : [아이언맨, 아이언맨2, 아이언맨3,  베놈, 닥터 스트레인지, 라라랜드, 비긴 어게인, 베테랑, 셔터 아일랜드]\n",
    "\n",
    "* **`bad_movie_code_lst`(9점 이하 영화)**\n",
    "    * **Movie Code** : [39614, 92823, 152341, 75711]\n",
    "    * **Movie Name** : [쏘우, 컨저링, 애나벨:인형의 주인, 킥 애스2:겁없는 녀석들]\n",
    "\n",
    "**userid, moviecode, rate, genre 정보를 사용했습니다.**"
   ]
  },
  {
   "cell_type": "code",
   "execution_count": 4,
   "id": "optimum-brick",
   "metadata": {
    "executionInfo": {
     "elapsed": 298,
     "status": "ok",
     "timestamp": 1629034012125,
     "user": {
      "displayName": "이종원",
      "photoUrl": "",
      "userId": "14753463302396753104"
     },
     "user_tz": -540
    },
    "id": "optimum-brick"
   },
   "outputs": [],
   "source": [
    "class KMRDDataset(torch.utils.data.Dataset):\n",
    "    def __init__(self, data_path, good_movie_code_lst=None, bad_movie_code_lst=None):\n",
    "        \n",
    "        ## If new rating information is exists append new information else pass\n",
    "        if (good_movie_code_lst==None) & (bad_movie_code_lst==None) :\n",
    "            print('No New User')\n",
    "            rate = pd.read_csv(os.path.join(data_path,'rates-5m.csv')).iloc[:, :3]\n",
    "        else :\n",
    "            rate = pd.read_csv(os.path.join(data_path,'rates-5m.csv')).iloc[:, :3]\n",
    "            self.new_user_id = rate.user.max()+1\n",
    "            print(f'new user: {self.new_user_id}.')\n",
    "            new_user_rating = self.append_new_user(self.new_user_id, good_movie_code_lst, bad_movie_code_lst)\n",
    "            rate = rate.append(new_user_rating, ignore_index=True)\n",
    "        \n",
    "        genres = pd.read_csv(os.path.join(data_path,'genres.csv'))\n",
    "        data = rate.merge(right=genres, how='left', on='movie')[['user', 'movie', 'genre', 'rate']]\n",
    "        \n",
    "        self.user_to_index = {original: idx for idx, original in enumerate(data.user.unique())}\n",
    "        self.movie_to_index = {original: idx for idx, original in enumerate(data.movie.unique())}\n",
    "        self.genre_to_index = {original : idx for idx, original in enumerate(data.genre.unique())}\n",
    "        data['user_e'] = data['user'].apply(lambda x: self.user_to_index[x])\n",
    "        data['movie_e'] = data['movie'].apply(lambda x: self.movie_to_index[x])\n",
    "        data['genre_e'] = data['genre'].apply(lambda x: self.genre_to_index[x])\n",
    "        \n",
    "        # Keeping Original DataFrame for Checking result\n",
    "        self.data_original = data.copy()\n",
    "        \n",
    "        # From DataFrame to Numpy\n",
    "        data = data[['user_e', 'movie_e', 'genre_e', 'rate']].to_numpy()[:, :4]\n",
    "        \n",
    "        # item : (user, movie, genre)\n",
    "        self.items = data[:, :3].astype(np.int)  # -1 because ID begins from 1\n",
    "        # if rating > 9 then 1 else 0\n",
    "        self.targets = self.__preprocess_target(data[:, 3]).astype(np.float32)\n",
    "        \n",
    "        self.field_dims = np.max(self.items, axis=0) + 1\n",
    "        self.user_field_idx = np.array((0, ), dtype=np.long)\n",
    "        self.movie_field_idx = np.array((1,), dtype=np.long)\n",
    "        self.genre_field_idx = np.array((2,), dtype=np.long)\n",
    "\n",
    "    def __len__(self):\n",
    "        return self.targets.shape[0]\n",
    "\n",
    "    def __getitem__(self, index):\n",
    "        return self.items[index], self.targets[index]\n",
    "\n",
    "    def __preprocess_target(self, target):\n",
    "        target[target <= 9] = 0\n",
    "        target[target > 9] = 1\n",
    "        return target\n",
    "    \n",
    "    def append_new_user(self, user_id, good_movie_code_lst, bad_movie_code_lst) :\n",
    "        info_dict_lst = [] \n",
    "        # Append good_movie_code --- rate 10 \n",
    "        for good_code in good_movie_code_lst :\n",
    "            info_dict_lst.append({'user' :user_id , 'movie' :good_code, 'rate' : 10})\n",
    "        # Append bad_movie_code ---- rate 1\n",
    "        for bad_code in bad_movie_code_lst :\n",
    "            info_dict_lst.append({'user' :user_id , 'movie' :bad_code, 'rate' : 1})\n",
    "        new_user_rating = pd.DataFrame(info_dict_lst)\n",
    "        \n",
    "        return new_user_rating  "
   ]
  },
  {
   "cell_type": "markdown",
   "id": "european-kenya",
   "metadata": {},
   "source": [
    "##### rating 분포의 특성 및 이진분류"
   ]
  },
  {
   "cell_type": "code",
   "execution_count": 3,
   "id": "automated-talent",
   "metadata": {},
   "outputs": [
    {
     "data": {
      "text/html": [
       "<div>\n",
       "<style scoped>\n",
       "    .dataframe tbody tr th:only-of-type {\n",
       "        vertical-align: middle;\n",
       "    }\n",
       "\n",
       "    .dataframe tbody tr th {\n",
       "        vertical-align: top;\n",
       "    }\n",
       "\n",
       "    .dataframe thead th {\n",
       "        text-align: right;\n",
       "    }\n",
       "</style>\n",
       "<table border=\"1\" class=\"dataframe\">\n",
       "  <thead>\n",
       "    <tr style=\"text-align: right;\">\n",
       "      <th></th>\n",
       "      <th>user</th>\n",
       "      <th>movie</th>\n",
       "      <th>rate</th>\n",
       "    </tr>\n",
       "  </thead>\n",
       "  <tbody>\n",
       "    <tr>\n",
       "      <th>0</th>\n",
       "      <td>0</td>\n",
       "      <td>10002</td>\n",
       "      <td>10</td>\n",
       "    </tr>\n",
       "    <tr>\n",
       "      <th>1</th>\n",
       "      <td>0</td>\n",
       "      <td>10003</td>\n",
       "      <td>9</td>\n",
       "    </tr>\n",
       "    <tr>\n",
       "      <th>2</th>\n",
       "      <td>0</td>\n",
       "      <td>10004</td>\n",
       "      <td>9</td>\n",
       "    </tr>\n",
       "    <tr>\n",
       "      <th>3</th>\n",
       "      <td>0</td>\n",
       "      <td>10005</td>\n",
       "      <td>5</td>\n",
       "    </tr>\n",
       "    <tr>\n",
       "      <th>4</th>\n",
       "      <td>0</td>\n",
       "      <td>10006</td>\n",
       "      <td>3</td>\n",
       "    </tr>\n",
       "    <tr>\n",
       "      <th>...</th>\n",
       "      <td>...</td>\n",
       "      <td>...</td>\n",
       "      <td>...</td>\n",
       "    </tr>\n",
       "    <tr>\n",
       "      <th>5031047</th>\n",
       "      <td>86456</td>\n",
       "      <td>140718</td>\n",
       "      <td>8</td>\n",
       "    </tr>\n",
       "    <tr>\n",
       "      <th>5031048</th>\n",
       "      <td>86456</td>\n",
       "      <td>141104</td>\n",
       "      <td>8</td>\n",
       "    </tr>\n",
       "    <tr>\n",
       "      <th>5031049</th>\n",
       "      <td>86456</td>\n",
       "      <td>144927</td>\n",
       "      <td>8</td>\n",
       "    </tr>\n",
       "    <tr>\n",
       "      <th>5031050</th>\n",
       "      <td>86456</td>\n",
       "      <td>145162</td>\n",
       "      <td>9</td>\n",
       "    </tr>\n",
       "    <tr>\n",
       "      <th>5031051</th>\n",
       "      <td>86456</td>\n",
       "      <td>160399</td>\n",
       "      <td>8</td>\n",
       "    </tr>\n",
       "  </tbody>\n",
       "</table>\n",
       "<p>5031052 rows × 3 columns</p>\n",
       "</div>"
      ],
      "text/plain": [
       "          user   movie  rate\n",
       "0            0   10002    10\n",
       "1            0   10003     9\n",
       "2            0   10004     9\n",
       "3            0   10005     5\n",
       "4            0   10006     3\n",
       "...        ...     ...   ...\n",
       "5031047  86456  140718     8\n",
       "5031048  86456  141104     8\n",
       "5031049  86456  144927     8\n",
       "5031050  86456  145162     9\n",
       "5031051  86456  160399     8\n",
       "\n",
       "[5031052 rows x 3 columns]"
      ]
     },
     "execution_count": 3,
     "metadata": {},
     "output_type": "execute_result"
    }
   ],
   "source": [
    "rate = pd.read_csv(os.path.join('./rates-5m.csv')).iloc[:, :3]\n",
    "rate"
   ]
  },
  {
   "cell_type": "code",
   "execution_count": 16,
   "id": "shaped-refund",
   "metadata": {},
   "outputs": [
    {
     "name": "stderr",
     "output_type": "stream",
     "text": [
      "C:\\Anaconda3\\lib\\site-packages\\seaborn\\_decorators.py:36: FutureWarning: Pass the following variable as a keyword arg: x. From version 0.12, the only valid positional argument will be `data`, and passing other arguments without an explicit keyword will result in an error or misinterpretation.\n",
      "  warnings.warn(\n"
     ]
    },
    {
     "data": {
      "image/png": "[encoded data removed]",
      "text/plain": [
       "<Figure size 720x288 with 1 Axes>"
      ]
     },
     "metadata": {},
     "output_type": "display_data"
    }
   ],
   "source": [
    "plt.figure(figsize=(10, 4))\n",
    "sns.countplot(rate.rate);\n",
    "plt.title('Rating Distribution');"
   ]
  },
  {
   "cell_type": "markdown",
   "id": "vietnamese-afternoon",
   "metadata": {},
   "source": [
    "* rate정보는 10점으로 편향되어 있습니다.\n",
    "* 이런 rate의 특성에 기반해서 rate = 10인 데이터를 1(good movie) 나머지 를 0(bad movie)로 설정했습니다. "
   ]
  },
  {
   "cell_type": "markdown",
   "id": "optional-panel",
   "metadata": {
    "id": "optional-panel"
   },
   "source": [
    "## 데이터 로드 및 train, test set분리\n",
    "\n",
    "**내 정보**\n",
    "\n",
    "* **good_movie_code(10점 주고 싶은 영화)** \n",
    "    * **Movie Code** : [44885, 49008, 70254, 119428, 125459, 134963, 96379, 115977, 69689]\n",
    "    * **Movie Name** : [아이언맨, 아이언맨2, 아이언맨3,  베놈, 닥터 스트레인지, 라라랜드, 비긴 어게인, 베테랑, 셔터 아일랜드]\n",
    "\n",
    "* **bad_movie_code(9점 이하 영화)**\n",
    "    * **Movie Code** : [39614, 92823, 152341, 75711]\n",
    "    * **Movie Name** : [쏘우, 컨저링, 애나벨:인형의 주인, 킥 애스2:겁없는 녀석들]"
   ]
  },
  {
   "cell_type": "code",
   "execution_count": 5,
   "id": "processed-mayor",
   "metadata": {
    "colab": {
     "base_uri": "https://localhost:8080/"
    },
    "executionInfo": {
     "elapsed": 24627,
     "status": "ok",
     "timestamp": 1629034040712,
     "user": {
      "displayName": "이종원",
      "photoUrl": "",
      "userId": "14753463302396753104"
     },
     "user_tz": -540
    },
    "id": "processed-mayor",
    "outputId": "b247cfc0-c27b-4500-c791-56ea24efb83e"
   },
   "outputs": [
    {
     "name": "stdout",
     "output_type": "stream",
     "text": [
      "new user: 86457.\n"
     ]
    },
    {
     "data": {
      "text/plain": [
       "<__main__.KMRDDataset at 0x7f7162513a90>"
      ]
     },
     "execution_count": 5,
     "metadata": {
      "tags": []
     },
     "output_type": "execute_result"
    }
   ],
   "source": [
    "data_path = '/content/drive/MyDrive/project'\n",
    "\n",
    "good_movie_code_lst = [44885, 49008, 70254, 119428, 125459, 134963, 96379, 115977, 69689]\n",
    "bad_movie_code_lst = [39614, 92823, 152341, 75711]\n",
    "dataset = KMRDDataset(data_path=data_path, good_movie_code_lst=good_movie_code_lst, bad_movie_code_lst=bad_movie_code_lst)\n",
    "dataset"
   ]
  },
  {
   "cell_type": "code",
   "execution_count": 6,
   "id": "alien-zoning",
   "metadata": {
    "executionInfo": {
     "elapsed": 1455,
     "status": "ok",
     "timestamp": 1629034045435,
     "user": {
      "displayName": "이종원",
      "photoUrl": "",
      "userId": "14753463302396753104"
     },
     "user_tz": -540
    },
    "id": "alien-zoning"
   },
   "outputs": [],
   "source": [
    "#### train, test set 분리(80%, 20%)\n",
    "train_length = int(len(dataset) * 0.8)\n",
    "test_length = len(dataset) - train_length\n",
    "train_dataset, test_dataset = torch.utils.data.random_split(dataset=dataset, lengths=(train_length, test_length))"
   ]
  },
  {
   "cell_type": "code",
   "execution_count": 7,
   "id": "suffering-orbit",
   "metadata": {
    "executionInfo": {
     "elapsed": 291,
     "status": "ok",
     "timestamp": 1629034052460,
     "user": {
      "displayName": "이종원",
      "photoUrl": "",
      "userId": "14753463302396753104"
     },
     "user_tz": -540
    },
    "id": "suffering-orbit"
   },
   "outputs": [],
   "source": [
    "# KMRDDataset클래스가 torch.utils.data.Dataset를 상속 받았으므로 torch의 DataLoder를 활용하여 데이터를 로드 가능\n",
    "# 데이터 사이즈가 워낙 크기 때문에 batch_size를 100000으로 설정\n",
    "train_data_loader = DataLoader(train_dataset, batch_size=100000)\n",
    "test_data_loader = DataLoader(test_dataset, batch_size=100000)"
   ]
  },
  {
   "cell_type": "code",
   "execution_count": 63,
   "id": "nominated-helmet",
   "metadata": {
    "colab": {
     "base_uri": "https://localhost:8080/"
    },
    "executionInfo": {
     "elapsed": 5,
     "status": "ok",
     "timestamp": 1629027851441,
     "user": {
      "displayName": "이종원",
      "photoUrl": "",
      "userId": "14753463302396753104"
     },
     "user_tz": -540
    },
    "id": "nominated-helmet",
    "outputId": "a98e2419-66ad-49bb-da51-1906b930d99d"
   },
   "outputs": [
    {
     "name": "stdout",
     "output_type": "stream",
     "text": [
      "[0]\n",
      "[1]\n",
      "[2]\n",
      "[86458 48891    27]\n",
      "135376\n",
      "Embedding(135376, 16)\n",
      "Parameter containing:\n",
      "tensor([0.], requires_grad=True)\n",
      "[     0  86458 135349]\n"
     ]
    }
   ],
   "source": [
    "##### KMRDDataset 객체인 dataset의 특징 살펴보기\n",
    "print(dataset.user_field_idx)\n",
    "print(dataset.movie_field_idx)\n",
    "print(dataset.genre_field_idx)\n",
    "print(dataset.field_dims)\n",
    "print(sum(dataset.field_dims))\n",
    "print(torch.nn.Embedding(sum(dataset.field_dims), 16))\n",
    "print(torch.nn.Parameter(torch.zeros((1,))))\n",
    "print(np.array((0, *np.cumsum(dataset.field_dims)[:-1]), dtype=np.long))"
   ]
  },
  {
   "cell_type": "markdown",
   "id": "wanted-hearing",
   "metadata": {
    "id": "wanted-hearing"
   },
   "source": [
    "# DeepFM 모델 학습(GPU 설정)"
   ]
  },
  {
   "cell_type": "code",
   "execution_count": 60,
   "id": "inner-furniture",
   "metadata": {
    "colab": {
     "base_uri": "https://localhost:8080/"
    },
    "executionInfo": {
     "elapsed": 341,
     "status": "ok",
     "timestamp": 1629027843988,
     "user": {
      "displayName": "이종원",
      "photoUrl": "",
      "userId": "14753463302396753104"
     },
     "user_tz": -540
    },
    "id": "inner-furniture",
    "outputId": "f3a879b9-61f9-4b36-b295-773a346be068"
   },
   "outputs": [
    {
     "data": {
      "text/plain": [
       "DeepFM(\n",
       "  (linear): FM_linear(\n",
       "    (fc): Embedding(135376, 1)\n",
       "  )\n",
       "  (fm): FM_pairwise()\n",
       "  (embedding): FeaturesEmbedding(\n",
       "    (embedding): Embedding(135376, 32)\n",
       "  )\n",
       "  (mlp): MultiLayerPerceptron(\n",
       "    (mlp): Sequential(\n",
       "      (0): Linear(in_features=96, out_features=256, bias=True)\n",
       "      (1): BatchNorm1d(256, eps=1e-05, momentum=0.1, affine=True, track_running_stats=True)\n",
       "      (2): ReLU()\n",
       "      (3): Linear(in_features=256, out_features=256, bias=True)\n",
       "      (4): BatchNorm1d(256, eps=1e-05, momentum=0.1, affine=True, track_running_stats=True)\n",
       "      (5): ReLU()\n",
       "      (6): Dropout(p=0.3, inplace=False)\n",
       "      (7): Linear(in_features=256, out_features=128, bias=True)\n",
       "      (8): BatchNorm1d(128, eps=1e-05, momentum=0.1, affine=True, track_running_stats=True)\n",
       "      (9): ReLU()\n",
       "      (10): Dropout(p=0.3, inplace=False)\n",
       "      (11): Linear(in_features=128, out_features=64, bias=True)\n",
       "      (12): BatchNorm1d(64, eps=1e-05, momentum=0.1, affine=True, track_running_stats=True)\n",
       "      (13): ReLU()\n",
       "      (14): Dropout(p=0.2, inplace=False)\n",
       "      (15): Linear(in_features=64, out_features=32, bias=True)\n",
       "      (16): BatchNorm1d(32, eps=1e-05, momentum=0.1, affine=True, track_running_stats=True)\n",
       "      (17): ReLU()\n",
       "      (18): Dropout(p=0.2, inplace=False)\n",
       "      (19): Linear(in_features=32, out_features=1, bias=True)\n",
       "    )\n",
       "  )\n",
       ")"
      ]
     },
     "execution_count": 60,
     "metadata": {
      "tags": []
     },
     "output_type": "execute_result"
    }
   ],
   "source": [
    "# GPU로 학습\n",
    "device = torch.device('cuda' if torch.cuda.is_available() else 'cpu')\n",
    "model = DeepFM(dataset.field_dims, embed_dim=32)\n",
    "\n",
    "# Setting GPU to DeepFM model\n",
    "model.to(device)"
   ]
  },
  {
   "cell_type": "markdown",
   "id": "noticed-seafood",
   "metadata": {
    "id": "noticed-seafood"
   },
   "source": [
    "## cost function, optimizer"
   ]
  },
  {
   "cell_type": "code",
   "execution_count": 64,
   "id": "hybrid-luther",
   "metadata": {
    "executionInfo": {
     "elapsed": 376,
     "status": "ok",
     "timestamp": 1629027856945,
     "user": {
      "displayName": "이종원",
      "photoUrl": "",
      "userId": "14753463302396753104"
     },
     "user_tz": -540
    },
    "id": "hybrid-luther"
   },
   "outputs": [],
   "source": [
    "# Binaray Cross Entropy Loss, Adam Optimizer\n",
    "criterion = torch.nn.BCELoss()\n",
    "optimizer = optim.Adam(params=model.parameters(), lr=0.001, weight_decay=1e-6)"
   ]
  },
  {
   "cell_type": "markdown",
   "id": "characteristic-composer",
   "metadata": {
    "id": "characteristic-composer"
   },
   "source": [
    "## Train data set으로 DeepFM 모델 학습"
   ]
  },
  {
   "cell_type": "code",
   "execution_count": 65,
   "id": "saved-yacht",
   "metadata": {
    "colab": {
     "base_uri": "https://localhost:8080/"
    },
    "executionInfo": {
     "elapsed": 5012031,
     "status": "ok",
     "timestamp": 1629032878601,
     "user": {
      "displayName": "이종원",
      "photoUrl": "",
      "userId": "14753463302396753104"
     },
     "user_tz": -540
    },
    "id": "saved-yacht",
    "outputId": "5ea24dc9-f1db-4df9-bb6a-3579bbdb86f0",
    "scrolled": true
   },
   "outputs": [
    {
     "name": "stdout",
     "output_type": "stream",
     "text": [
      "Epoch 1 loss : 0.545049\n",
      "Epoch 2 loss : 0.433770\n",
      "Epoch 3 loss : 0.351768\n",
      "Epoch 4 loss : 0.280855\n",
      "Epoch 5 loss : 0.242088\n",
      "Epoch 6 loss : 0.217049\n",
      "Epoch 7 loss : 0.196907\n",
      "Epoch 8 loss : 0.184148\n",
      "Epoch 9 loss : 0.174261\n",
      "Epoch 10 loss : 0.164290\n",
      "Epoch 11 loss : 0.156128\n",
      "Epoch 12 loss : 0.150816\n",
      "Epoch 13 loss : 0.144534\n",
      "Epoch 14 loss : 0.138455\n",
      "Epoch 15 loss : 0.133652\n",
      "Epoch 16 loss : 0.129335\n",
      "Epoch 17 loss : 0.126301\n",
      "Epoch 18 loss : 0.123784\n",
      "Epoch 19 loss : 0.119648\n",
      "Epoch 20 loss : 0.115656\n",
      "Epoch 21 loss : 0.112745\n",
      "Epoch 22 loss : 0.110817\n",
      "Epoch 23 loss : 0.110044\n",
      "Epoch 24 loss : 0.108656\n",
      "Epoch 25 loss : 0.107099\n",
      "Epoch 26 loss : 0.105334\n",
      "Epoch 27 loss : 0.103403\n",
      "Epoch 28 loss : 0.101551\n",
      "Epoch 29 loss : 0.099790\n",
      "Epoch 30 loss : 0.097730\n",
      "Epoch 31 loss : 0.095514\n",
      "Epoch 32 loss : 0.092930\n",
      "Epoch 33 loss : 0.091377\n",
      "Epoch 34 loss : 0.090713\n",
      "Epoch 35 loss : 0.090222\n",
      "Epoch 36 loss : 0.089926\n",
      "Epoch 37 loss : 0.088395\n",
      "Epoch 38 loss : 0.087133\n",
      "Epoch 39 loss : 0.086389\n",
      "Epoch 40 loss : 0.086064\n",
      "Epoch 41 loss : 0.085444\n",
      "Epoch 42 loss : 0.083402\n",
      "Epoch 43 loss : 0.081378\n",
      "Epoch 44 loss : 0.079798\n",
      "Epoch 45 loss : 0.078607\n",
      "Epoch 46 loss : 0.077704\n",
      "Epoch 47 loss : 0.076933\n",
      "Epoch 48 loss : 0.075860\n",
      "Epoch 49 loss : 0.075083\n",
      "Epoch 50 loss : 0.074414\n",
      "Finished Training\n"
     ]
    }
   ],
   "source": [
    "losses = []\n",
    "total_data = len(list(train_data_loader))\n",
    "epochs = 50 \n",
    "for epoch in range(epochs) :\n",
    "    \n",
    "    running_loss = 0.0\n",
    "    for i, data in enumerate(train_data_loader) :\n",
    "        inputs, labels = data[0].to(device), data[1].to(device)\n",
    "        \n",
    "        optimizer.zero_grad()\n",
    "\n",
    "        outputs = model(inputs)\n",
    "        loss = criterion(outputs, labels)\n",
    "        loss.backward()\n",
    "        optimizer.step()\n",
    "        \n",
    "        running_loss += loss.item()\n",
    "    mean_loss = running_loss/total_data\n",
    "    \n",
    "    print('Epoch %d loss : %4f' % (epoch+1, mean_loss))\n",
    "    losses.append(mean_loss)\n",
    "    running_loss = 0.0\n",
    "            \n",
    "print('Finished Training')"
   ]
  },
  {
   "cell_type": "markdown",
   "id": "directed-brass",
   "metadata": {},
   "source": [
    "### Loss값 시각화"
   ]
  },
  {
   "cell_type": "code",
   "execution_count": 66,
   "id": "lucky-volunteer",
   "metadata": {
    "colab": {
     "base_uri": "https://localhost:8080/",
     "height": 330
    },
    "executionInfo": {
     "elapsed": 377,
     "status": "ok",
     "timestamp": 1629033206157,
     "user": {
      "displayName": "이종원",
      "photoUrl": "",
      "userId": "14753463302396753104"
     },
     "user_tz": -540
    },
    "id": "lucky-volunteer",
    "outputId": "6fc424f8-5723-4591-86e8-c600f49ebfe0"
   },
   "outputs": [
    {
     "data": {
      "image/png": "[encoded data removed]",
      "text/plain": [
       "<Figure size 1080x360 with 1 Axes>"
      ]
     },
     "metadata": {
      "tags": []
     },
     "output_type": "display_data"
    }
   ],
   "source": [
    "plt.figure(figsize=(15, 5))\n",
    "plt.plot(range(epochs), losses, label='All ReLU, Not Dropout first')\n",
    "plt.ylabel('Loss')\n",
    "plt.xlabel('Epoch')\n",
    "plt.legend()\n",
    "plt.show()"
   ]
  },
  {
   "cell_type": "markdown",
   "id": "straight-kenya",
   "metadata": {
    "id": "straight-kenya"
   },
   "source": [
    "## 모델 저장 및 로드"
   ]
  },
  {
   "cell_type": "code",
   "execution_count": 70,
   "id": "worthy-kinase",
   "metadata": {
    "executionInfo": {
     "elapsed": 288,
     "status": "ok",
     "timestamp": 1629033343234,
     "user": {
      "displayName": "이종원",
      "photoUrl": "",
      "userId": "14753463302396753104"
     },
     "user_tz": -540
    },
    "id": "worthy-kinase"
   },
   "outputs": [],
   "source": [
    "# save DeepFM model\n",
    "PATH = '/content/drive/MyDrive/project/DeepFM_AR_NDF.pth'\n",
    "torch.save(model.state_dict(), PATH)"
   ]
  },
  {
   "cell_type": "code",
   "execution_count": 8,
   "id": "american-georgia",
   "metadata": {
    "colab": {
     "base_uri": "https://localhost:8080/"
    },
    "executionInfo": {
     "elapsed": 12554,
     "status": "ok",
     "timestamp": 1629034078273,
     "user": {
      "displayName": "이종원",
      "photoUrl": "",
      "userId": "14753463302396753104"
     },
     "user_tz": -540
    },
    "id": "american-georgia",
    "outputId": "243bb2f3-88ae-4625-e47b-748417ea5f81"
   },
   "outputs": [
    {
     "data": {
      "text/plain": [
       "<All keys matched successfully>"
      ]
     },
     "execution_count": 8,
     "metadata": {
      "tags": []
     },
     "output_type": "execute_result"
    }
   ],
   "source": [
    "# load DeepFM model\n",
    "PATH = '/content/drive/MyDrive/project/DeepFM_AR_NDF.pth'\n",
    "DeepFM = DeepFM(dataset.field_dims, embed_dim=32)\n",
    "DeepFM.load_state_dict(torch.load(PATH))"
   ]
  },
  {
   "cell_type": "markdown",
   "id": "lucky-insight",
   "metadata": {},
   "source": [
    "# DeepFM 모델 테스트\n",
    "\n",
    "* Test 과정에서 모델이 추가적으로 학습하지 않도록 **`with torch.no_grad() :`** 안에서 테스트를 진행했습니다. "
   ]
  },
  {
   "cell_type": "markdown",
   "id": "proper-tunisia",
   "metadata": {
    "id": "proper-tunisia"
   },
   "source": [
    "## Train dataset을 활용하여 DeepFM 모델 테스트"
   ]
  },
  {
   "cell_type": "code",
   "execution_count": 72,
   "id": "opened-holiday",
   "metadata": {
    "colab": {
     "base_uri": "https://localhost:8080/"
    },
    "executionInfo": {
     "elapsed": 292045,
     "status": "ok",
     "timestamp": 1629033657823,
     "user": {
      "displayName": "이종원",
      "photoUrl": "",
      "userId": "14753463302396753104"
     },
     "user_tz": -540
    },
    "id": "opened-holiday",
    "outputId": "a100972d-2c2e-4b51-f8fb-fed1cd391e6d"
   },
   "outputs": [
    {
     "name": "stdout",
     "output_type": "stream",
     "text": [
      "Accuracy of the DeepFM on the test data : 97 %\n"
     ]
    }
   ],
   "source": [
    "# Accuracy for train\n",
    "correct = 0\n",
    "total = 0\n",
    "with torch.no_grad() :\n",
    "    for data in train_data_loader :\n",
    "        inputs, labels = data\n",
    "        \n",
    "        outputs = DeepFM(inputs)\n",
    "        outputs = torch.tensor([(1 if output > 0.5 else 0) for output in outputs], dtype=float)\n",
    "        \n",
    "        # total += batch_size\n",
    "        total += labels.size(0)\n",
    "        correct += (outputs == labels).sum().item()\n",
    "\n",
    "print('Accuracy of the DeepFM on the train data : %d %%' % (100*correct/total))"
   ]
  },
  {
   "cell_type": "markdown",
   "id": "ecological-importance",
   "metadata": {
    "id": "ecological-importance"
   },
   "source": [
    "## Test dataset을 활용하여 DeepFM 모델 테스트"
   ]
  },
  {
   "cell_type": "code",
   "execution_count": 9,
   "id": "noticed-business",
   "metadata": {
    "colab": {
     "base_uri": "https://localhost:8080/"
    },
    "executionInfo": {
     "elapsed": 70502,
     "status": "ok",
     "timestamp": 1629034155313,
     "user": {
      "displayName": "이종원",
      "photoUrl": "",
      "userId": "14753463302396753104"
     },
     "user_tz": -540
    },
    "id": "noticed-business",
    "outputId": "c967bb66-2f28-45fb-b367-22c4dbd8f22e"
   },
   "outputs": [
    {
     "name": "stdout",
     "output_type": "stream",
     "text": [
      "Accuracy of the DeepFM on the test data : 96 %\n"
     ]
    }
   ],
   "source": [
    "# Accuracy for test data\n",
    "correct = 0\n",
    "total = 0\n",
    "with torch.no_grad() :\n",
    "    for data in test_data_loader :\n",
    "        inputs, labels = data\n",
    "        \n",
    "        outputs = DeepFM(inputs)\n",
    "        outputs = torch.tensor([(1 if output > 0.5 else 0) for output in outputs], dtype=float)\n",
    "        \n",
    "        # total += batch_size\n",
    "        total += labels.size(0)\n",
    "        correct += (outputs == labels).sum().item()\n",
    "\n",
    "print('Accuracy of the DeepFM on the test data : %d %%' % (100*correct/total))"
   ]
  },
  {
   "cell_type": "markdown",
   "id": "descending-trance",
   "metadata": {
    "id": "descending-trance"
   },
   "source": [
    "# User i에게 Top-K 영화 추천\n",
    "\n",
    "* **New User(나)** 에게 Top-k 영화를 추천해주는 함수입니다.\n",
    "* **KMRDDataset**의 객체인 dataset에 **`new_user_id`** 인스턴스로 New_User의 id 값을 저장했고, 이를 input값으로 넣어줬습니다."
   ]
  },
  {
   "cell_type": "code",
   "execution_count": 14,
   "id": "democratic-edmonton",
   "metadata": {
    "executionInfo": {
     "elapsed": 297,
     "status": "ok",
     "timestamp": 1629034389403,
     "user": {
      "displayName": "이종원",
      "photoUrl": "",
      "userId": "14753463302396753104"
     },
     "user_tz": -540
    },
    "id": "democratic-edmonton"
   },
   "outputs": [],
   "source": [
    "# user에 대한 TOP-N 영화 추천 함수\n",
    "def movie_recommend(i, k) :\n",
    "    '''\n",
    "    Movie Recommendation function for user_i\n",
    "        i : user_id(= preprocessed user_id for input Embedding layer)\n",
    "        k : Top-K Movies  \n",
    "    '''\n",
    "    # Change all user number to user who you want to recommend movie.   \n",
    "    item, labels = dataset[:]\n",
    "    item[: ,0]= i\n",
    "    item_unique = set([tuple(item) for item in item.tolist()])\n",
    "    user = torch.tensor(np.array(list(item_unique)))\n",
    "    \n",
    "    ## User i's favortie movie information DataFrame & movie code\n",
    "    df_user_favorite = dataset.data_original[(dataset.data_original['user_e']==0) & (dataset.data_original['rate']>9)]\n",
    "    user_favorite_movie_lst = df_user_favorite['movie']\n",
    "    \n",
    "    ## output : Sorting Sigmoid Values and get index & Sorting movie_code.\n",
    "    with torch.no_grad() :\n",
    "        outputs = DeepFM(user)\n",
    "        outputs = outputs.sort(descending=True).indices\n",
    "    user_favorite_predicted = list(np.array(dataset.data_original.iloc[outputs, :]['movie']))\n",
    "    \n",
    "    # Top-K other movies except those that users have previously marked as good.\n",
    "    recommend_lst = []\n",
    "    for data in user_favorite_predicted : \n",
    "        if data not in user_favorite_movie_lst:\n",
    "            recommend_lst.append(data)\n",
    "        if len(recommend_lst) == k:\n",
    "            break\n",
    "            \n",
    "    return recommend_lst"
   ]
  },
  {
   "cell_type": "code",
   "execution_count": 48,
   "id": "round-action",
   "metadata": {
    "executionInfo": {
     "elapsed": 14998,
     "status": "ok",
     "timestamp": 1629035408730,
     "user": {
      "displayName": "이종원",
      "photoUrl": "",
      "userId": "14753463302396753104"
     },
     "user_tz": -540
    },
    "id": "round-action"
   },
   "outputs": [],
   "source": [
    "recommend_lst = movie_recommend(dataset.new_user_id, 10)"
   ]
  },
  {
   "cell_type": "markdown",
   "id": "hired-chrome",
   "metadata": {
    "id": "hired-chrome"
   },
   "source": [
    "## User에게 추천한 영화 정보 크롤링 해오기\n",
    "\n",
    "* 기존에 크롤링한 데이터를 사용해서 접근할 수 있었지만, 메모리가 1.6GB를 잡아먹어서 로드하기 부담이 된 측면과.\n",
    "* 위에서 작성한 크롤링 함수가 어떻게 작동하는지 보여드리고 싶어서 크롤링 함수를 넣었습니다. "
   ]
  },
  {
   "cell_type": "code",
   "execution_count": 49,
   "id": "geological-picking",
   "metadata": {
    "executionInfo": {
     "elapsed": 315,
     "status": "ok",
     "timestamp": 1629035414540,
     "user": {
      "displayName": "이종원",
      "photoUrl": "",
      "userId": "14753463302396753104"
     },
     "user_tz": -540
    },
    "id": "geological-picking"
   },
   "outputs": [],
   "source": [
    "def recommend_movie_info(recommend_lst) :\n",
    "    \n",
    "    # Data Frame for movie information\n",
    "    cols =['영화코드', '영화제목', '관람객평점', '기자평론가평점', '네티즌평점', '장르', '국가', '개봉일', \n",
    "        '배우', '감독', '선호연령성별', '감상포인트', '연출선호', '연기선호', '스토리선호', '영상미선호', 'ost선호']\n",
    "    df = pd.DataFrame(np.zeros((len(recommend_lst), 17)), columns=cols)\n",
    "    \n",
    "    # Crawling Movie Information\n",
    "    for i, movie_code in enumerate(recommend_lst):\n",
    "        mv_name, score_point, spc_point, net_point, genre, nation, opend = get_movie_info(movie_code)\n",
    "        if len(mv_name) == 0 :\n",
    "            pass\n",
    "        else :\n",
    "            actor, director = get_actor_director(movie_code)\n",
    "            prefer, view_point, directing, acting, story, v_beauty, ost = get_prefer_info(movie_code)\n",
    "            data_lst = [movie_code, mv_name, score_point, spc_point, net_point, genre, nation, opend,\n",
    "                       actor, director,\n",
    "                       prefer, view_point, directing, acting, story, v_beauty, ost]                                     \n",
    "            for j, data in enumerate(data_lst) :\n",
    "                if j == 0 :\n",
    "                    df.iloc[i, j] = data\n",
    "                elif len(data) == 1 :\n",
    "                    df.iloc[i, j] = data[0]\n",
    "                elif len(data) > 1 :\n",
    "                    df.iloc[i, j] = str(data).strip(\"[]\")\n",
    "                else :\n",
    "                    pass\n",
    "    return df\n"
   ]
  },
  {
   "cell_type": "code",
   "execution_count": 50,
   "id": "suffering-found",
   "metadata": {
    "colab": {
     "base_uri": "https://localhost:8080/"
    },
    "executionInfo": {
     "elapsed": 29440,
     "status": "ok",
     "timestamp": 1629035447443,
     "user": {
      "displayName": "이종원",
      "photoUrl": "",
      "userId": "14753463302396753104"
     },
     "user_tz": -540
    },
    "id": "suffering-found",
    "outputId": "16181435-b5a1-4205-c6cb-0bed30cb9ea6"
   },
   "outputs": [
    {
     "name": "stdout",
     "output_type": "stream",
     "text": [
      "171336, 관람객 평점 부분 오류 \n",
      "171336, 기자 평론가 평점 부분 오류 \n",
      "171336, 네티즌 평점 부분 오류 \n",
      "평점 없음\n",
      "10187, 관람객 평점 부분 오류 \n",
      "10187, 기자 평론가 평점 부분 오류 \n",
      "10187, 네티즌 평점 부분 오류 \n",
      "평점 없음\n",
      "10200, 기자 평론가 평점 부분 오류 \n",
      "11220, 관람객 평점 부분 오류 \n",
      "11220, 기자 평론가 평점 부분 오류 \n",
      "11220, 네티즌 평점 부분 오류 \n",
      "평점 없음\n",
      "11211, 관람객 평점 부분 오류 \n",
      "11211, 기자 평론가 평점 부분 오류 \n",
      "11211, 네티즌 평점 부분 오류 \n",
      "평점 없음\n",
      "64161, 관람객 평점 부분 오류 \n",
      "64131, 관람객 평점 부분 오류 \n",
      "64131, 기자 평론가 평점 부분 오류 \n",
      "64131, 네티즌 평점 부분 오류 \n",
      "평점 없음\n"
     ]
    }
   ],
   "source": [
    "df_recommended_movie = recommend_movie_info(recommend_lst)"
   ]
  },
  {
   "cell_type": "code",
   "execution_count": 51,
   "id": "complicated-fifth",
   "metadata": {
    "colab": {
     "base_uri": "https://localhost:8080/",
     "height": 725
    },
    "executionInfo": {
     "elapsed": 305,
     "status": "ok",
     "timestamp": 1629035452477,
     "user": {
      "displayName": "이종원",
      "photoUrl": "",
      "userId": "14753463302396753104"
     },
     "user_tz": -540
    },
    "id": "complicated-fifth",
    "outputId": "32409e83-e05c-4fb4-c177-f5ca997d0a9e"
   },
   "outputs": [
    {
     "data": {
      "text/html": [
       "<div>\n",
       "<style scoped>\n",
       "    .dataframe tbody tr th:only-of-type {\n",
       "        vertical-align: middle;\n",
       "    }\n",
       "\n",
       "    .dataframe tbody tr th {\n",
       "        vertical-align: top;\n",
       "    }\n",
       "\n",
       "    .dataframe thead th {\n",
       "        text-align: right;\n",
       "    }\n",
       "</style>\n",
       "<table border=\"1\" class=\"dataframe\">\n",
       "  <thead>\n",
       "    <tr style=\"text-align: right;\">\n",
       "      <th></th>\n",
       "      <th>영화코드</th>\n",
       "      <th>영화제목</th>\n",
       "      <th>관람객평점</th>\n",
       "      <th>기자평론가평점</th>\n",
       "      <th>네티즌평점</th>\n",
       "      <th>장르</th>\n",
       "      <th>국가</th>\n",
       "      <th>개봉일</th>\n",
       "      <th>배우</th>\n",
       "      <th>감독</th>\n",
       "      <th>선호연령성별</th>\n",
       "      <th>감상포인트</th>\n",
       "      <th>연출선호</th>\n",
       "      <th>연기선호</th>\n",
       "      <th>스토리선호</th>\n",
       "      <th>영상미선호</th>\n",
       "      <th>ost선호</th>\n",
       "    </tr>\n",
       "  </thead>\n",
       "  <tbody>\n",
       "    <tr>\n",
       "      <th>0</th>\n",
       "      <td>171336.0</td>\n",
       "      <td>숨바꼭질</td>\n",
       "      <td>0</td>\n",
       "      <td>0</td>\n",
       "      <td>0</td>\n",
       "      <td>스릴러</td>\n",
       "      <td>미국</td>\n",
       "      <td>0</td>\n",
       "      <td>'발 킬머', '패트릭 플러거', '폴 밴 빅터', '루이자 크로즈', '이얼 바즈...</td>\n",
       "      <td>스테판 릭</td>\n",
       "      <td>0</td>\n",
       "      <td>0</td>\n",
       "      <td>0</td>\n",
       "      <td>0</td>\n",
       "      <td>0</td>\n",
       "      <td>0</td>\n",
       "      <td>0</td>\n",
       "    </tr>\n",
       "    <tr>\n",
       "      <th>1</th>\n",
       "      <td>10187.0</td>\n",
       "      <td>13일의 금요일 2</td>\n",
       "      <td>0</td>\n",
       "      <td>0</td>\n",
       "      <td>0</td>\n",
       "      <td>공포</td>\n",
       "      <td>미국</td>\n",
       "      <td>0</td>\n",
       "      <td>'에이미 스틸', '존 퍼리', '에이드리언 킹'</td>\n",
       "      <td>스티브 마이너</td>\n",
       "      <td>0</td>\n",
       "      <td>0</td>\n",
       "      <td>0</td>\n",
       "      <td>0</td>\n",
       "      <td>0</td>\n",
       "      <td>0</td>\n",
       "      <td>0</td>\n",
       "    </tr>\n",
       "    <tr>\n",
       "      <th>2</th>\n",
       "      <td>10200.0</td>\n",
       "      <td>터미네이터 2:오리지널</td>\n",
       "      <td>9.51</td>\n",
       "      <td>0</td>\n",
       "      <td>9.44</td>\n",
       "      <td>'SF', '액션', '스릴러'</td>\n",
       "      <td>'미국', '프랑스'</td>\n",
       "      <td>'2019', '.10.24', '2013', '.11.14', ' 1991', '...</td>\n",
       "      <td>'아놀드 슈왈제네거', '린다 해밀턴', '에드워드 펄롱', '로버트 패트릭', '...</td>\n",
       "      <td>제임스 카메론</td>\n",
       "      <td>20대 남성</td>\n",
       "      <td>연출</td>\n",
       "      <td>24%</td>\n",
       "      <td>19%</td>\n",
       "      <td>22%</td>\n",
       "      <td>18%</td>\n",
       "      <td>17%</td>\n",
       "    </tr>\n",
       "    <tr>\n",
       "      <th>3</th>\n",
       "      <td>170267.0</td>\n",
       "      <td>너와 극장에서</td>\n",
       "      <td>8.65</td>\n",
       "      <td>6.00</td>\n",
       "      <td>7.09</td>\n",
       "      <td>드라마</td>\n",
       "      <td>한국</td>\n",
       "      <td>' 2018', '.06.28'</td>\n",
       "      <td>'김예은', '이태경', '박현영', '문혜인', '김판겸', '신숙희', '팔로'...</td>\n",
       "      <td>'유지영', '정가영', '김태진'</td>\n",
       "      <td>20대 여성</td>\n",
       "      <td>연출</td>\n",
       "      <td>35%</td>\n",
       "      <td>29%</td>\n",
       "      <td>29%</td>\n",
       "      <td>0%</td>\n",
       "      <td>6%</td>\n",
       "    </tr>\n",
       "    <tr>\n",
       "      <th>4</th>\n",
       "      <td>11220.0</td>\n",
       "      <td>트루 크라임</td>\n",
       "      <td>0</td>\n",
       "      <td>0</td>\n",
       "      <td>0</td>\n",
       "      <td>'범죄', '스릴러', '드라마'</td>\n",
       "      <td>미국</td>\n",
       "      <td>0</td>\n",
       "      <td>'클린트 이스트우드', '아이제이아 워싱턴', '데니스 리어리', '리사 게이 해밀...</td>\n",
       "      <td>클린트 이스트우드</td>\n",
       "      <td>0</td>\n",
       "      <td>0</td>\n",
       "      <td>0</td>\n",
       "      <td>0</td>\n",
       "      <td>0</td>\n",
       "      <td>0</td>\n",
       "      <td>0</td>\n",
       "    </tr>\n",
       "    <tr>\n",
       "      <th>5</th>\n",
       "      <td>170456.0</td>\n",
       "      <td>미스터 스마일</td>\n",
       "      <td>8.01</td>\n",
       "      <td>6.50</td>\n",
       "      <td>7.94</td>\n",
       "      <td>'드라마', '멜로/로맨스'</td>\n",
       "      <td>미국</td>\n",
       "      <td>' 2018', '.12.27'</td>\n",
       "      <td>'로버트 레드포드', '케이시 애플렉', '씨씨 스페이식', '대니 글로버', '티...</td>\n",
       "      <td>데이빗 로워리</td>\n",
       "      <td>40대 남성</td>\n",
       "      <td>연기</td>\n",
       "      <td>12%</td>\n",
       "      <td>48%</td>\n",
       "      <td>16%</td>\n",
       "      <td>16%</td>\n",
       "      <td>8%</td>\n",
       "    </tr>\n",
       "    <tr>\n",
       "      <th>6</th>\n",
       "      <td>11211.0</td>\n",
       "      <td>스캐너스</td>\n",
       "      <td>0</td>\n",
       "      <td>0</td>\n",
       "      <td>0</td>\n",
       "      <td>'공포', 'SF', '스릴러'</td>\n",
       "      <td>캐나다</td>\n",
       "      <td>0</td>\n",
       "      <td>'제니퍼 오닐', '스티븐 랙', '패트릭 맥구한', '로렌스 데인', '마이클 아...</td>\n",
       "      <td>데이비드 크로넨버그</td>\n",
       "      <td>0</td>\n",
       "      <td>0</td>\n",
       "      <td>0</td>\n",
       "      <td>0</td>\n",
       "      <td>0</td>\n",
       "      <td>0</td>\n",
       "      <td>0</td>\n",
       "    </tr>\n",
       "    <tr>\n",
       "      <th>7</th>\n",
       "      <td>64161.0</td>\n",
       "      <td>엑스맨 탄생: 울버린</td>\n",
       "      <td>0</td>\n",
       "      <td>5.81</td>\n",
       "      <td>8.22</td>\n",
       "      <td>'SF', '액션', '판타지', '스릴러'</td>\n",
       "      <td>미국</td>\n",
       "      <td>' 2009', '.04.30'</td>\n",
       "      <td>'휴 잭맨', '리브 슈라이버', '대니 휴스턴', '린 콜린스'</td>\n",
       "      <td>개빈 후드</td>\n",
       "      <td>10대 남성</td>\n",
       "      <td>연기</td>\n",
       "      <td>21%</td>\n",
       "      <td>33%</td>\n",
       "      <td>21%</td>\n",
       "      <td>21%</td>\n",
       "      <td>5%</td>\n",
       "    </tr>\n",
       "    <tr>\n",
       "      <th>8</th>\n",
       "      <td>64131.0</td>\n",
       "      <td>스톱로스</td>\n",
       "      <td>0</td>\n",
       "      <td>0</td>\n",
       "      <td>0</td>\n",
       "      <td>'전쟁', '드라마'</td>\n",
       "      <td>미국</td>\n",
       "      <td>0</td>\n",
       "      <td>'라이언 필립', '애비 코니쉬', '채닝 테이텀', '조셉 고든 레빗', '롭 브...</td>\n",
       "      <td>킴벌리 피어스</td>\n",
       "      <td>0</td>\n",
       "      <td>0</td>\n",
       "      <td>0</td>\n",
       "      <td>0</td>\n",
       "      <td>0</td>\n",
       "      <td>0</td>\n",
       "      <td>0</td>\n",
       "    </tr>\n",
       "    <tr>\n",
       "      <th>9</th>\n",
       "      <td>170827.0</td>\n",
       "      <td>더 게스트</td>\n",
       "      <td>5.11</td>\n",
       "      <td>3.67</td>\n",
       "      <td>4.15</td>\n",
       "      <td>'공포', '스릴러'</td>\n",
       "      <td>'스페인', '영국', '미국', '프랑스'</td>\n",
       "      <td>' 2018', '.09.12'</td>\n",
       "      <td>'레이첼 니콜스', '로라 해링'</td>\n",
       "      <td>미겔 앙헬 비바스</td>\n",
       "      <td>30대 여성</td>\n",
       "      <td>연출</td>\n",
       "      <td>33%</td>\n",
       "      <td>21%</td>\n",
       "      <td>25%</td>\n",
       "      <td>7%</td>\n",
       "      <td>13%</td>\n",
       "    </tr>\n",
       "  </tbody>\n",
       "</table>\n",
       "</div>"
      ],
      "text/plain": [
       "       영화코드          영화제목 관람객평점 기자평론가평점 네티즌평점  ... 연출선호 연기선호 스토리선호 영상미선호 ost선호\n",
       "0  171336.0          숨바꼭질     0       0     0  ...    0    0     0     0     0\n",
       "1   10187.0    13일의 금요일 2     0       0     0  ...    0    0     0     0     0\n",
       "2   10200.0  터미네이터 2:오리지널  9.51       0  9.44  ...  24%  19%   22%   18%   17%\n",
       "3  170267.0       너와 극장에서  8.65    6.00  7.09  ...  35%  29%   29%    0%    6%\n",
       "4   11220.0        트루 크라임     0       0     0  ...    0    0     0     0     0\n",
       "5  170456.0       미스터 스마일  8.01    6.50  7.94  ...  12%  48%   16%   16%    8%\n",
       "6   11211.0          스캐너스     0       0     0  ...    0    0     0     0     0\n",
       "7   64161.0   엑스맨 탄생: 울버린     0    5.81  8.22  ...  21%  33%   21%   21%    5%\n",
       "8   64131.0          스톱로스     0       0     0  ...    0    0     0     0     0\n",
       "9  170827.0         더 게스트  5.11    3.67  4.15  ...  33%  21%   25%    7%   13%\n",
       "\n",
       "[10 rows x 17 columns]"
      ]
     },
     "execution_count": 51,
     "metadata": {
      "tags": []
     },
     "output_type": "execute_result"
    }
   ],
   "source": [
    "df_recommended_movie"
   ]
  },
  {
   "cell_type": "markdown",
   "id": "military-nickname",
   "metadata": {},
   "source": [
    "# 결론 및 고찰\n",
    "\n",
    "**학습 시간**\n",
    "* 학습 데이터가 약 500만 개 이상이었기 때문에 학습 시간이 너무 오래 걸렸습니다.\n",
    "* 새로운 고객이 들어오면 데이터를 받아 학습 후 추천을 진행하게끔 설계되어 있었기 때문에 학습 시간이 길다는 문제를 개선해야 한다고 생각합니다.\n",
    "    - 개선 방법 1. 컴퓨터의 리소스를 증가시키고, 병렬학습을 진행한다.\n",
    "    - 개선 방법 2. 입력 데이터의 수를 줄인다.\n",
    "\n",
    "**추천 결과**\n",
    "* 실제로 추천된 영화 중에서 `터미네이터 2:오리지널`, `엑스맨 탄생: 울버린` 2개는 제가 실제로 좋아하는 영화였습니다.\n",
    "* 또한, bad_movie_lst에 공포영화가 다수 존재했는데, 공포영화가 추천되었습니다.\n",
    "    - 이렇듯, 추천 시스템의 결과에 대해서 명확하게 설명할 수 없는 단점이 있었습니다."
   ]
  },
  {
   "cell_type": "markdown",
   "id": "usual-services",
   "metadata": {},
   "source": [
    "# Reference"
   ]
  },
  {
   "cell_type": "markdown",
   "id": "refined-authentication",
   "metadata": {},
   "source": [
    "* **DeepFM** : https://www.ijcai.org/proceedings/2017/0239.pdf\n",
    "* **Factorization Machine** : https://www.csie.ntu.edu.tw/~b97053/paper/Rendle2010FM.pdf"
   ]
  }
 ],
 "metadata": {
  "accelerator": "GPU",
  "colab": {
   "collapsed_sections": [],
   "name": "Crawling_genre.ipynb",
   "provenance": []
  },
  "kernelspec": {
   "display_name": "Python 3",
   "language": "python",
   "name": "python3"
  },
  "language_info": {
   "codemirror_mode": {
    "name": "ipython",
    "version": 3
   },
   "file_extension": ".py",
   "mimetype": "text/x-python",
   "name": "python",
   "nbconvert_exporter": "python",
   "pygments_lexer": "ipython3",
   "version": "3.8.5"
  },
  "toc": {
   "base_numbering": 1,
   "nav_menu": {},
   "number_sections": true,
   "sideBar": true,
   "skip_h1_title": false,
   "title_cell": "Table of Contents",
   "title_sidebar": "Contents",
   "toc_cell": false,
   "toc_position": {
    "height": "541.6px",
    "left": "31px",
    "top": "110.8px",
    "width": "367.556px"
   },
   "toc_section_display": true,
   "toc_window_display": false
  }
 },
 "nbformat": 4,
 "nbformat_minor": 5
}
